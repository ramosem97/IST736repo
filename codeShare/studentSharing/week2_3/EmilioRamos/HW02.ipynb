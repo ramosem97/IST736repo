{
 "cells": [
  {
   "cell_type": "markdown",
   "id": "7d781fad-9b68-48af-a6c9-eed8212105a2",
   "metadata": {},
   "source": [
    "# Vectorization\n",
    "<b> IST 736 - Text Mining - Homework 2 <br>\n",
    "<b> Emilio Ramos Monzalvo - eramosmo@syr.edu - 10/18/2021"
   ]
  },
  {
   "cell_type": "markdown",
   "id": "7bdf8e34-d935-46ed-8c67-90ab1e302ef6",
   "metadata": {},
   "source": [
    "In this assignment, you will vectorize the data that you collected in HW1. Because the goal is to identify the public sentiment toward AI on social media, you need to think about what vectorization options, regarding both what to count and how to count, would be the best for this goal. Make sure to explain the decisions you made during the vectorization process, e.g., if you removed stopwords and why.<br>\n",
    "\n",
    "Write a report to include the following information:\n",
    "1. Briefly recap how you collected the data.\n",
    "2. Describe your vectorization choices and corresponding result. For example, if you chose to do stemming, how did the vocabulary size change after stemming? Did the stemming eliminate important linguistic information that you'd rather keep, or not?\n",
    "3. Conclude with the best vectorization option(s).\n",
    "\n",
    "Your report should provide sufficient information for others to replicate what you did. Submit your report with your original data file and the vectors from your best vectorization options."
   ]
  },
  {
   "cell_type": "markdown",
   "id": "92de604a-10db-4efd-acaa-9f94536e1191",
   "metadata": {},
   "source": [
    "## Introduction"
   ]
  },
  {
   "cell_type": "markdown",
   "id": "d51289ed-f90f-40a4-9a00-e3055d9aa914",
   "metadata": {},
   "source": [
    "### Problem Statement"
   ]
  },
  {
   "cell_type": "markdown",
   "id": "31ac8157-4e8b-4616-a573-719863aec7c9",
   "metadata": {},
   "source": [
    "Artificial Intelligence (AI) is an extraordinary field that can do wonders to society by making it easier for a population to be understood through Social Media, but it can also cause harm as shown in the 2016 United States Presidential Election where a candidate used it to target individuals with propaganda. People who are not familiar with it and its applications can have a misunderstood perception on its applications and capabilities as Hollywood has created films where an AI algorithm can take over the world. Most recently, the Looney Toons cartoon with Basketball Star Lebron James, showed an algorithm learning how to play basketball in order to beat Lebron. Realistic or far fetched, the attitude of a population towards AI can help determine what its focus can be in the future. In order to find the population's opinion, the study uses Social Media platforms, mainly Twitter, to get recent comments about the topic of AI."
   ]
  },
  {
   "cell_type": "markdown",
   "id": "d9032ef5-4bb7-474d-af46-e30f3dd13e76",
   "metadata": {},
   "source": [
    "It is a common problem in Text Mining is trying to identify a sentiment on a particular subject. This area is known as Sentiment Analysis which has become quite popular due to its large set of applications. Some applications include understanding customer reviews or even analyzing the population sentiment to COVID-19. Consequently, there are a multitude of approaches and tools one can use to complete a Sentiment Analysis problem statement like this one. "
   ]
  },
  {
   "cell_type": "markdown",
   "id": "1a1166e8-1ad7-40c6-a1cc-cafa2b5cf1a0",
   "metadata": {},
   "source": [
    "Before any sentiment analysis can be done, the text, in this case tweets, need to be processed and standarized in a way that does we only lose minimal information and maximize the importance of words that contain the most sentiment. I.e., given a sentence, the action and adverb are more likely to have information about the sentiment rather than the noun or mention in a tweet. Therefore, we would remove mentions and stopwords which do not add value to our model."
   ]
  },
  {
   "cell_type": "markdown",
   "id": "e193a60b-ef67-40ec-92ff-4b450f6b6c07",
   "metadata": {
    "tags": []
   },
   "source": [
    "## Analysis and Models"
   ]
  },
  {
   "cell_type": "markdown",
   "id": "10a508f3-e878-4b2f-b36c-3bb57304bad5",
   "metadata": {},
   "source": [
    "### Notebook Configuration"
   ]
  },
  {
   "cell_type": "code",
   "execution_count": 4,
   "id": "210b0e1f-eeee-4dbd-b130-f61494461572",
   "metadata": {},
   "outputs": [
    {
     "data": {
      "text/html": [
       "<pre>✔️ 3.03 s (2021-10-30T09:42:42/2021-10-30T09:42:45)</pre>"
      ],
      "text/plain": [
       "<IPython.core.display.HTML object>"
      ]
     },
     "metadata": {},
     "output_type": "display_data"
    },
    {
     "name": "stdout",
     "output_type": "stream",
     "text": [
      "The autotime extension is already loaded. To reload it, use:\n",
      "  %reload_ext autotime\n"
     ]
    }
   ],
   "source": [
    "%load_ext autotime\n",
    "\n",
    "import pandas as pd\n",
    "import numpy as np\n",
    "\n",
    "import matplotlib.pyplot as plt\n",
    "import seaborn as sns\n",
    "\n",
    "import glob\n",
    "import json\n",
    "import tweepy\n",
    "\n",
    "import warnings\n",
    "warnings.filterwarnings(\"ignore\")\n",
    "\n",
    "import nltk\n",
    "import spacy\n",
    "nlp = spacy.load(\"en_core_web_sm\") # Get Spacy English Language\n",
    "\n",
    "path = 'C:\\\\Users\\\\ramos\\\\OneDrive\\\\Documents\\\\SyracuseUniversity\\\\9th_Quarter\\\\IST736\\\\Homework\\\\'"
   ]
  },
  {
   "cell_type": "markdown",
   "id": "ac94e109-b467-4e1b-a8cd-17245c863497",
   "metadata": {
    "tags": []
   },
   "source": [
    "### About the Data"
   ]
  },
  {
   "cell_type": "markdown",
   "id": "90ae8a95-089c-47c8-ac06-2fb12024897f",
   "metadata": {},
   "source": [
    "<b> Source: https://developer.twitter.com/en/docs/twitter-api/tools-and-libraries </b>"
   ]
  },
  {
   "cell_type": "markdown",
   "id": "3868eeff-6502-42b2-b601-bf6a53857221",
   "metadata": {},
   "source": [
    "The data was pulled using the free API provided by Twitter where one can write a query to match tweets to a specific topic of choice. The API allows for one to pull the most recent tweets from the last 30 days. The data is constantly pulled throughout the week since there is a maximum of 2000 tweets to be pulled per day. Nonetheless, there is a total of 11979 tweets being used for this analysis.\n",
    "\n",
    "The query fed into the API was restricted the search to the English Language and a date no longer than 30 days from today, October 30th, 2021. The query is looking for any tweet that contains the characters 'AI' or 'Artificial Intelligence' separated by a space or end of tweet and/or start of tweet. The only field kept from the search was the text field from the tweet. No other field like user, location, favorite, or retweet was considered in order to simplify the analysis to only text data, and to preserve user anonimity. The location, or geo-code, was not included in the query since it is not the analysis is not limited to a certain population."
   ]
  },
  {
   "cell_type": "code",
   "execution_count": 2,
   "id": "8e31083b-eee5-4b95-ac2c-bffde0d5c311",
   "metadata": {
    "tags": []
   },
   "outputs": [
    {
     "data": {
      "text/html": [
       "<pre>✔️ 15.5 s (2021-10-30T09:19:21/2021-10-30T09:19:37)</pre>"
      ],
      "text/plain": [
       "<IPython.core.display.HTML object>"
      ]
     },
     "metadata": {},
     "output_type": "display_data"
    },
    {
     "name": "stdout",
     "output_type": "stream",
     "text": [
      "Limit Exceeded\n",
      "Read in 3000 New Tweets.\n",
      "Data Frame has 11979 Tweets.\n"
     ]
    },
    {
     "data": {
      "text/html": [
       "<div>\n",
       "<style scoped>\n",
       "    .dataframe tbody tr th:only-of-type {\n",
       "        vertical-align: middle;\n",
       "    }\n",
       "\n",
       "    .dataframe tbody tr th {\n",
       "        vertical-align: top;\n",
       "    }\n",
       "\n",
       "    .dataframe thead th {\n",
       "        text-align: right;\n",
       "    }\n",
       "</style>\n",
       "<table border=\"1\" class=\"dataframe\">\n",
       "  <thead>\n",
       "    <tr style=\"text-align: right;\">\n",
       "      <th></th>\n",
       "      <th>tweet</th>\n",
       "    </tr>\n",
       "  </thead>\n",
       "  <tbody>\n",
       "    <tr>\n",
       "      <th>0</th>\n",
       "      <td>There actually is AI for this??? What the hell...</td>\n",
       "    </tr>\n",
       "    <tr>\n",
       "      <th>1</th>\n",
       "      <td>'Let that sink in': Rep. Dan Crenshaw slams $4...</td>\n",
       "    </tr>\n",
       "    <tr>\n",
       "      <th>2</th>\n",
       "      <td>@ai_curio_bot botprompt: https://t.co/pXkQQWcOHj</td>\n",
       "    </tr>\n",
       "    <tr>\n",
       "      <th>3</th>\n",
       "      <td>@ai_uehara_ex Good morning, honey</td>\n",
       "    </tr>\n",
       "    <tr>\n",
       "      <th>4</th>\n",
       "      <td>@ai_curio_bot botprompt: An unimaginable quant...</td>\n",
       "    </tr>\n",
       "  </tbody>\n",
       "</table>\n",
       "</div>"
      ],
      "text/plain": [
       "                                               tweet\n",
       "0  There actually is AI for this??? What the hell...\n",
       "1  'Let that sink in': Rep. Dan Crenshaw slams $4...\n",
       "2   @ai_curio_bot botprompt: https://t.co/pXkQQWcOHj\n",
       "3                  @ai_uehara_ex Good morning, honey\n",
       "4  @ai_curio_bot botprompt: An unimaginable quant..."
      ]
     },
     "execution_count": 2,
     "metadata": {},
     "output_type": "execute_result"
    }
   ],
   "source": [
    "##### Get NEW Tweets about AI\n",
    "f_twitter_cred = open(path + '\\\\HWData\\\\twitter.json')\n",
    "twitter_cred = json.load(f_twitter_cred)\n",
    "\n",
    "auth = tweepy.OAuthHandler(twitter_cred['api_key'], twitter_cred['api_secret_key'])\n",
    "auth.set_access_token(twitter_cred['access_token'], twitter_cred['access_token_secret'])\n",
    "\n",
    "api = tweepy.API(auth, wait_on_rate_limit=True)\n",
    "\n",
    "max_tweets = 10000\n",
    "toDate=pd.to_datetime(np.datetime64('today'))\n",
    "fromDate=pd.to_datetime(np.datetime64('today')-np.timedelta64(30, 'D'))\n",
    "\n",
    "warnings.filterwarnings(\"ignore\")\n",
    "\n",
    "searched_tweets = tweepy.Cursor(api.search_30_day, label='IST736TextMining', query='(Artificial Intelligence OR AI) -RT lang:en',  fromDate=fromDate.strftime('%Y%m%d%H%m'), toDate=toDate.strftime('%Y%m%d%H%m')).items(max_tweets)\n",
    "\n",
    "tweets = []\n",
    "try:\n",
    "    for tweet in searched_tweets:\n",
    "        tweets.append(tweet.text)\n",
    "except:\n",
    "    print('Limit Exceeded')\n",
    "\n",
    "df = pd.DataFrame(tweets, columns=['tweet']) # Convert to Data Frame\n",
    "\n",
    "print('Read in {} New Tweets.'.format(len(tweets)))\n",
    "\n",
    "##### Append new Tweets to Old Tweets if they exist\n",
    "tweets_f = glob.glob(path + '\\\\HWData\\\\tweets.csv')\n",
    "\n",
    "if len(tweets_f) > 0:\n",
    "    \n",
    "    # Append New Tweets and Drop Duplicates\n",
    "    if len(df) > 0:\n",
    "        df = pd.concat([df, pd.read_csv(path + '\\\\HWData\\\\tweets.csv')]).drop_duplicates(['tweet'])\n",
    "        df = df.reset_index(drop=True)\n",
    "        \n",
    "        # Save New Tweets\n",
    "        df.to_csv(path + '\\\\HWData\\\\tweets.csv', index=False) # Save to CSV File\n",
    "\n",
    "    else:\n",
    "        df = pd.read_csv(path + '\\\\HWData\\\\tweets.csv')\n",
    "    \n",
    "print('Data Frame has {} Tweets.'.format(len(df)))\n",
    "\n",
    "df.head()"
   ]
  },
  {
   "cell_type": "markdown",
   "id": "fc87da05-6362-40d0-b2b6-54ec78df4415",
   "metadata": {},
   "source": [
    "### Processing Tweets"
   ]
  },
  {
   "cell_type": "markdown",
   "id": "d43fab2c-5a49-436f-b149-fe96ca4fbe10",
   "metadata": {},
   "source": [
    "As mentioned above, the tweets need to be processed accordingly to extract as much information as possible regarding the sentiment of the tweets. In order to do so, the steps taken are listed below:\n",
    "1. Tokenizing\n",
    "2. Remove unwanted words and punctuation.\n",
    "3. Lemmatize and Stemming\n",
    "4. Vectorize"
   ]
  },
  {
   "cell_type": "markdown",
   "id": "00fd8eb9-6247-4459-9f4f-e1553cb17a92",
   "metadata": {},
   "source": [
    "#### Tokenize"
   ]
  },
  {
   "cell_type": "markdown",
   "id": "e90b8bef-8de7-4e56-8c14-da55ff8923f1",
   "metadata": {},
   "source": [
    "NLTK package provides a simple and reliable tokenizer meant specifically for tweets. It takes into account the emojis, retweets and other Twitter specific patterns that make it easier for a developer to use when processing tweets."
   ]
  },
  {
   "cell_type": "code",
   "execution_count": 5,
   "id": "a13811ca-7fa9-4a0f-a627-9ccf30470465",
   "metadata": {},
   "outputs": [
    {
     "data": {
      "text/html": [
       "<pre>✔️ 0 ns (2021-10-30T09:53:55/2021-10-30T09:53:55)</pre>"
      ],
      "text/plain": [
       "<IPython.core.display.HTML object>"
      ]
     },
     "metadata": {},
     "output_type": "display_data"
    }
   ],
   "source": [
    "# Define Tweet Tokenizer\n",
    "from nltk.tokenize import TweetTokenizer\n",
    "tt = TweetTokenizer()"
   ]
  },
  {
   "cell_type": "code",
   "execution_count": 6,
   "id": "6aed87c5-47e1-4c3c-94e9-c6cff137d082",
   "metadata": {},
   "outputs": [
    {
     "data": {
      "text/html": [
       "<pre>✔️ 750 ms (2021-10-30T09:54:48/2021-10-30T09:54:49)</pre>"
      ],
      "text/plain": [
       "<IPython.core.display.HTML object>"
      ]
     },
     "metadata": {},
     "output_type": "display_data"
    },
    {
     "name": "stdout",
     "output_type": "stream",
     "text": [
      "[['There', 'actually', 'is', 'AI', 'for', 'this', '?', '?', '?', 'What', 'the', 'hell', 'Kaga', 'https://t.co/2ujn09QgeL'], [\"'\", 'Let', 'that', 'sink', 'in', \"'\", ':', 'Rep', '.', 'Dan', 'Crenshaw', 'slams', '$', '450,000', 'per', 'person', 'payout', 'to', 'families', 'who', 'illegally', 'crossed', 'border', 'whi', '…', 'https://t.co/PmVxlKzakt'], ['@ai_curio_bot', 'botprompt', ':', 'https://t.co/pXkQQWcOHj'], ['@ai_uehara_ex', 'Good', 'morning', ',', 'honey'], ['@ai_curio_bot', 'botprompt', ':', 'An', 'unimaginable', 'quantity', 'of', 'cheese'], ['@severitis', 'Glad', 'you', 'like', '!', \"We've\", 'been', 'working', 'on', 'them', 'for', 'a', 'few', 'months', '.', 'They', 'have', 'a', 'whole', 'delivery', 'system', 'and', 'unique', '…', 'https://t.co/EETiAjTXsJ'], ['@robertjoseph', '@RaynaRambling', 'Are', 'we', 'going', 'to', 'delegate', 'film', ',', 'book', 'and', 'music', 'critiques', 'to', 'AI', 'as', 'well', '?'], ['#Facebook', 'AI', 'what', 'crack', 'are', 'you', 'smoking', '?', 'Obviously', 'this', 'is', 'NOT', 'against', 'community', 'standards', '.', 'https://t.co/PPs230EaGg'], ['@lesbianhuening', 'Good', 'morming', 'ai', 'https://t.co/C9zXTlLqsF'], ['Do', 'you', 'consider', 'yourself', 'a', 'technologist', '?', 'Are', 'you', 'looking', 'for', 'something', 'more', 'than', 'a', 'typical', 'dev', 'role', '?', 'Are', 'you', 'intrig', '…', 'https://t.co/VvIQHT2zqB']]\n"
     ]
    }
   ],
   "source": [
    "# Tokenize List of Tweets\n",
    "tokens = [tt.tokenize(tweet) for tweet in df['tweet'].values]\n",
    "print(tokens[:10])"
   ]
  },
  {
   "cell_type": "markdown",
   "id": "340c5f2b-94ff-4aba-8cbf-b9323475b9e6",
   "metadata": {
    "jp-MarkdownHeadingCollapsed": true,
    "tags": []
   },
   "source": [
    "#### Remove unwanted words and punctuation "
   ]
  },
  {
   "cell_type": "markdown",
   "id": "993688b7-e8c3-4474-a7f3-7c3daf429e38",
   "metadata": {},
   "source": [
    "Tweets are likely to contain mentions and URLs attached. These values are likely to be unique to the tweets and will not provide insight on the sentiment of a tweet. The URLs might be a picture or a link to a website which might have information relevant to the analysis, but this would require other techniques like computer vision or web scrapping that are out of scope of the analysis. \n",
    "\n",
    "Since the sentiment is the goal of the analysis, stopwords are not likely to contain additional information since they can exist in every tweet like the word 'a' on a bag of word model. Similarly, punctuation's benefit on a bag of words model is likely to be non-existant.\n",
    "\n",
    "Finally, since the query used to search for tweets looks for tweets containing the words AI and/or Artificial Intelligence, then every tweet has to contain the words which prevents us from using it to gain information from the tweets. "
   ]
  },
  {
   "cell_type": "code",
   "execution_count": 41,
   "id": "a3646ff1-2d65-47ce-b3ee-a39a657a5e5f",
   "metadata": {},
   "outputs": [
    {
     "data": {
      "text/html": [
       "<pre>✔️ 0 ns (2021-10-30T10:49:37/2021-10-30T10:49:37)</pre>"
      ],
      "text/plain": [
       "<IPython.core.display.HTML object>"
      ]
     },
     "metadata": {},
     "output_type": "display_data"
    }
   ],
   "source": [
    "import re\n",
    "from nltk.corpus import stopwords\n",
    "stopWords = stopwords.words('english')\n",
    "\n",
    "def preprocess_text(doc):\n",
    "    \"\"\"\n",
    "    Function used to preprocess text into a standarized format\n",
    "    \"\"\"\n",
    "    \n",
    "    tweet_tokenized = []\n",
    "    for tkn in doc:\n",
    "        \n",
    "        ### Remove Mentions and URLs\n",
    "        tkn_processed = re.sub(r\"(?:\\@|https?\\://)\\S+\", \"\", tkn)\n",
    "        \n",
    "        ### Standarize Text\n",
    "        # lower case\n",
    "        tkn_processed = tkn_processed.lower()\n",
    "        # remove digits\n",
    "        tkn_processed = re.sub(r'\\d+', '', tkn_processed)\n",
    "        # remove punctuation and special chars\n",
    "        tkn_processed = re.sub(r'[^\\w\\s]+', ' ', tkn_processed)\n",
    "        # strip whitespace\n",
    "        tkn_processed = tkn_processed.strip()\n",
    "        \n",
    "        ### Remove Stop Words\n",
    "        if tkn_processed in stopWords:\n",
    "            continue\n",
    "            \n",
    "        # If word is not empy, then add to document token list\n",
    "        if tkn_processed != '':\n",
    "            tweet_tokenized.append(tkn_processed)\n",
    "    \n",
    "    ## Remove AI and Artificial Intelligence\n",
    "    tweet_tokenized = ' '.join(tweet_tokenized).replace('artificial intelligence', '').replace('ai', '').strip().split(' ')\n",
    "    tweet_tokenized = [i for i in tweet_tokenized if i]\n",
    "    \n",
    "    return tweet_tokenized"
   ]
  },
  {
   "cell_type": "code",
   "execution_count": 42,
   "id": "23a2ea9f-4433-44c8-950a-fc76ad0a67c5",
   "metadata": {},
   "outputs": [
    {
     "data": {
      "text/html": [
       "<pre>✔️ 890 ms (2021-10-30T10:49:37/2021-10-30T10:49:38)</pre>"
      ],
      "text/plain": [
       "<IPython.core.display.HTML object>"
      ]
     },
     "metadata": {},
     "output_type": "display_data"
    }
   ],
   "source": [
    "tokens_processed = [preprocess_text(doc) for doc in tokens]"
   ]
  },
  {
   "cell_type": "markdown",
   "id": "fa7df43d-3a7d-4d37-b056-939dba4733f8",
   "metadata": {},
   "source": [
    "#### Lemmatizing and Stemming"
   ]
  },
  {
   "cell_type": "markdown",
   "id": "19d7667b-265c-4522-a8a7-a6d13a498767",
   "metadata": {},
   "source": [
    "Due to the large variations of word's context, tense and plurality, a bag of words model works best if known variations of a word are stanarized as one. For example if one tweet includes the word 'great' to describe AI, we would want other tweets use 'greatness' to be grouped in a similar category since they are both describing AI with the same sentiment.\n",
    "\n",
    "Therefore, the words are first lemmatized and then stemmed to reduce the variations of words and count of unique words. Lemmatization is done first since a word can have multiple meanings, so extracting it using the context of the tweet is important before a word is stemmed which can remove some context of the tweet. For Lemmatization, the Word Net Lemmatizer is used as it is a standard lemmatizer in NLP while the Snoball Stemmer is preferred for Stemming since it is a superior version to the Porter Stemmer."
   ]
  },
  {
   "cell_type": "code",
   "execution_count": 50,
   "id": "560268f4-71da-441d-94ee-449b2d8244c8",
   "metadata": {},
   "outputs": [
    {
     "data": {
      "text/html": [
       "<pre>✔️ 282 ms (2021-10-30T10:52:26/2021-10-30T10:52:26)</pre>"
      ],
      "text/plain": [
       "<IPython.core.display.HTML object>"
      ]
     },
     "metadata": {},
     "output_type": "display_data"
    },
    {
     "name": "stdout",
     "output_type": "stream",
     "text": [
      "[['actually', 'hell', 'kaga'], ['let', 'sink', 'rep', 'dan', 'crenshaw', 'slam', 'per', 'person', 'payout', 'family', 'illegally', 'crossed', 'border', 'whi'], ['botprompt'], ['good', 'morning', 'honey'], ['botprompt', 'unimaginable', 'quantity', 'cheese']]\n"
     ]
    }
   ],
   "source": [
    "# Define Lemmatizer\n",
    "from nltk.stem.wordnet import WordNetLemmatizer\n",
    "lmt = WordNetLemmatizer()\n",
    "\n",
    "# Lemmatize the tokens.\n",
    "lemm_tokens = [[lmt.lemmatize(tkn) for tkn in doc] for doc in tokens_processed]\n",
    "\n",
    "# Print Some Stemmed Docs\n",
    "print(lemm_tokens[:5])"
   ]
  },
  {
   "cell_type": "code",
   "execution_count": 51,
   "id": "46932013-5531-4061-b4d7-74c46fcead0d",
   "metadata": {},
   "outputs": [
    {
     "data": {
      "text/html": [
       "<pre>✔️ 891 ms (2021-10-30T10:52:27/2021-10-30T10:52:28)</pre>"
      ],
      "text/plain": [
       "<IPython.core.display.HTML object>"
      ]
     },
     "metadata": {},
     "output_type": "display_data"
    },
    {
     "name": "stdout",
     "output_type": "stream",
     "text": [
      "[['actual', 'hell', 'kaga'], ['let', 'sink', 'rep', 'dan', 'crenshaw', 'slam', 'per', 'person', 'payout', 'famili', 'illeg', 'cross', 'border', 'whi'], ['botprompt'], ['good', 'morn', 'honey'], ['botprompt', 'unimagin', 'quantiti', 'chees']]\n"
     ]
    }
   ],
   "source": [
    "# Define Stemmer\n",
    "from nltk.stem import SnowballStemmer\n",
    "stemmer = SnowballStemmer(\"english\")\n",
    "\n",
    "# Lemmatize the tokens.\n",
    "stem_tokens = [[stemmer.stem(tkn) for tkn in doc] for doc in lemm_tokens]\n",
    "\n",
    "# Print Some Stemmed Docs\n",
    "print(stem_tokens[:5])"
   ]
  },
  {
   "cell_type": "markdown",
   "id": "618ea5ec-aa51-4188-ad6f-b1c6bb895306",
   "metadata": {},
   "source": [
    "#### Before and After Text Processing"
   ]
  },
  {
   "cell_type": "markdown",
   "id": "80c89179-02c2-410c-8e66-5dac296e4085",
   "metadata": {},
   "source": [
    "In order to visualize the effects of the text processing, the word count and character count can be visualized to see how much each step reduces them. "
   ]
  },
  {
   "cell_type": "code",
   "execution_count": 52,
   "id": "bcd48cbf-1b0c-4db3-a602-f78bc17a7383",
   "metadata": {},
   "outputs": [
    {
     "data": {
      "text/html": [
       "<pre>✔️ 0 ns (2021-10-30T11:04:36/2021-10-30T11:04:36)</pre>"
      ],
      "text/plain": [
       "<IPython.core.display.HTML object>"
      ]
     },
     "metadata": {},
     "output_type": "display_data"
    }
   ],
   "source": [
    "processing_stages = ['tokenized', 'standarized', 'lemmatized', 'stemmed']"
   ]
  },
  {
   "cell_type": "code",
   "execution_count": 53,
   "id": "5a5a7f43-0257-4332-b684-67efb09ca767",
   "metadata": {},
   "outputs": [
    {
     "data": {
      "text/html": [
       "<pre>✔️ 15 ms (2021-10-30T11:04:39/2021-10-30T11:04:39)</pre>"
      ],
      "text/plain": [
       "<IPython.core.display.HTML object>"
      ]
     },
     "metadata": {},
     "output_type": "display_data"
    }
   ],
   "source": [
    "df['tokenized'] = tokens\n",
    "df['standarized'] = tokens_processed\n",
    "df['lemmatized'] = lemm_tokens\n",
    "df['stemmed'] = stem_tokens"
   ]
  },
  {
   "cell_type": "code",
   "execution_count": 82,
   "id": "3d3e82c7-f2bb-4a00-8f06-79e5b4f1e43b",
   "metadata": {},
   "outputs": [
    {
     "data": {
      "text/html": [
       "<pre>✔️ 10.5 s (2021-10-30T11:23:24/2021-10-30T11:23:35)</pre>"
      ],
      "text/plain": [
       "<IPython.core.display.HTML object>"
      ]
     },
     "metadata": {},
     "output_type": "display_data"
    }
   ],
   "source": [
    "unique_tkns = {}\n",
    "for stage in processing_stages:\n",
    "    unique_tkns[stage] = len(np.unique(df[stage].sum()))\n",
    "    df['word_count_{}'.format(stage)]  = df[stage].apply(len)"
   ]
  },
  {
   "cell_type": "markdown",
   "id": "86cdd364-1197-46e3-b71d-4944a8fedf86",
   "metadata": {},
   "source": [
    "##### Unique Word Count"
   ]
  },
  {
   "cell_type": "markdown",
   "id": "cc44cbfb-41a3-4712-b041-3e8907ac56ac",
   "metadata": {},
   "source": [
    "After each step in the processing, there should be a reduction in unique words. If this is not the case, then the processes migh have some error which creates more unique words. It is a safety check before moving on to vectorization and modeling. As shown below, the biggest drop comes from the standarization stage, but there is still a consitent drop of unique words after each processing stage."
   ]
  },
  {
   "cell_type": "code",
   "execution_count": 84,
   "id": "ba76b255-2e6f-4878-afa9-5ff3f36a3882",
   "metadata": {},
   "outputs": [
    {
     "data": {
      "text/html": [
       "<pre>✔️ 78 ms (2021-10-30T11:23:43/2021-10-30T11:23:43)</pre>"
      ],
      "text/plain": [
       "<IPython.core.display.HTML object>"
      ]
     },
     "metadata": {},
     "output_type": "display_data"
    },
    {
     "data": {
      "text/plain": [
       "<AxesSubplot:xlabel='stage', ylabel='unique_word_count'>"
      ]
     },
     "execution_count": 84,
     "metadata": {},
     "output_type": "execute_result"
    },
    {
     "data": {
      "image/png": "[encoded data removed]",
      "text/plain": [
       "<Figure size 432x288 with 1 Axes>"
      ]
     },
     "metadata": {
      "needs_background": "light"
     },
     "output_type": "display_data"
    }
   ],
   "source": [
    "unique_tkns_df = pd.DataFrame.from_dict(unique_tkns, orient='index', columns=['unique_word_count']).reset_index(drop=False).rename(columns={'index':'stage'})\n",
    "sns.barplot(data=unique_tkns_df,\n",
    "            y='unique_word_count', x='stage')"
   ]
  },
  {
   "cell_type": "code",
   "execution_count": 89,
   "id": "f01c8e87-f371-4c28-9224-237624a5624c",
   "metadata": {},
   "outputs": [
    {
     "data": {
      "text/html": [
       "<pre>✔️ 16 ms (2021-10-30T11:33:19/2021-10-30T11:33:19)</pre>"
      ],
      "text/plain": [
       "<IPython.core.display.HTML object>"
      ]
     },
     "metadata": {},
     "output_type": "display_data"
    },
    {
     "data": {
      "text/html": [
       "<div>\n",
       "<style scoped>\n",
       "    .dataframe tbody tr th:only-of-type {\n",
       "        vertical-align: middle;\n",
       "    }\n",
       "\n",
       "    .dataframe tbody tr th {\n",
       "        vertical-align: top;\n",
       "    }\n",
       "\n",
       "    .dataframe thead th {\n",
       "        text-align: right;\n",
       "    }\n",
       "</style>\n",
       "<table border=\"1\" class=\"dataframe\">\n",
       "  <thead>\n",
       "    <tr style=\"text-align: right;\">\n",
       "      <th></th>\n",
       "      <th>stage</th>\n",
       "      <th>unique_word_count</th>\n",
       "    </tr>\n",
       "  </thead>\n",
       "  <tbody>\n",
       "    <tr>\n",
       "      <th>0</th>\n",
       "      <td>tokenized</td>\n",
       "      <td>42036</td>\n",
       "    </tr>\n",
       "    <tr>\n",
       "      <th>1</th>\n",
       "      <td>standarized</td>\n",
       "      <td>17923</td>\n",
       "    </tr>\n",
       "    <tr>\n",
       "      <th>2</th>\n",
       "      <td>lemmatized</td>\n",
       "      <td>16427</td>\n",
       "    </tr>\n",
       "    <tr>\n",
       "      <th>3</th>\n",
       "      <td>stemmed</td>\n",
       "      <td>13590</td>\n",
       "    </tr>\n",
       "  </tbody>\n",
       "</table>\n",
       "</div>"
      ],
      "text/plain": [
       "         stage  unique_word_count\n",
       "0    tokenized              42036\n",
       "1  standarized              17923\n",
       "2   lemmatized              16427\n",
       "3      stemmed              13590"
      ]
     },
     "execution_count": 89,
     "metadata": {},
     "output_type": "execute_result"
    }
   ],
   "source": [
    "unique_tkns_df"
   ]
  },
  {
   "cell_type": "markdown",
   "id": "c36df433-a085-452a-afdc-7c2f61975100",
   "metadata": {},
   "source": [
    "##### Word Count\n",
    "The biggest lead in word count reduction happens after the Standarization stage. The tokenizer mainly splits the data based on white space, so we get a raw word count of the tweet."
   ]
  },
  {
   "cell_type": "code",
   "execution_count": 88,
   "id": "e3d4b58d-2ea5-4adc-975d-41821f0cb0e3",
   "metadata": {},
   "outputs": [
    {
     "data": {
      "text/html": [
       "<pre>✔️ 438 ms (2021-10-30T11:31:57/2021-10-30T11:31:57)</pre>"
      ],
      "text/plain": [
       "<IPython.core.display.HTML object>"
      ]
     },
     "metadata": {},
     "output_type": "display_data"
    },
    {
     "name": "stdout",
     "output_type": "stream",
     "text": [
      "0 tokenized\n",
      "1 standarized\n",
      "2 lemmatized\n",
      "3 stemmed\n"
     ]
    },
    {
     "data": {
      "image/png": "[encoded data removed]",
      "text/plain": [
       "<Figure size 720x1440 with 4 Axes>"
      ]
     },
     "metadata": {
      "needs_background": "light"
     },
     "output_type": "display_data"
    }
   ],
   "source": [
    "plt.figure(figsize=(10, 20))\n",
    "for i, stage in enumerate(processing_stages):\n",
    "    print(i, stage)\n",
    "    plt.subplot(411+i)\n",
    "    ax = sns.kdeplot(data=df, x='word_count_' + stage)\n",
    "    ax.plot([df['word_count_' + stage].median(), df['word_count_' + stage].median()], [0, .12], color='red', label='median')\n",
    "    plt.xlim(-1, 50)\n",
    "    plt.ylim(0, .12)\n",
    "    plt.title('Word Count per Tweet after {}'.format(stage))\n",
    "    plt.legend()"
   ]
  },
  {
   "cell_type": "markdown",
   "id": "9be542cb-4a2b-48ac-af36-bb9ff8ed1d07",
   "metadata": {},
   "source": [
    "##### Remove Non-Usable Tweets"
   ]
  },
  {
   "cell_type": "markdown",
   "id": "1c0b13bc-e835-40e4-8961-caa4eb581360",
   "metadata": {},
   "source": [
    "Due to the small count of words on some tweets, their likelyhood of returning any sentiment is low since most of the context is taken out of the tweets. Therefore, tweets with less than 3 values left are taken out of the dataframe."
   ]
  },
  {
   "cell_type": "code",
   "execution_count": 207,
   "id": "2a7b300b-06ed-488e-8f42-1e864a2352ca",
   "metadata": {},
   "outputs": [
    {
     "data": {
      "text/html": [
       "<pre>✔️ 15 ms (2021-10-30T12:31:33/2021-10-30T12:31:33)</pre>"
      ],
      "text/plain": [
       "<IPython.core.display.HTML object>"
      ]
     },
     "metadata": {},
     "output_type": "display_data"
    }
   ],
   "source": [
    "df = df.loc[df['word_count_stemmed'] > 3].reset_index(drop=True)"
   ]
  },
  {
   "cell_type": "markdown",
   "id": "e0b8426d-1f98-465c-affa-edeb8e6dc58b",
   "metadata": {},
   "source": [
    "#### Vectorize"
   ]
  },
  {
   "cell_type": "markdown",
   "id": "f4a25603-1221-49f4-be1e-ff13bd0b3073",
   "metadata": {},
   "source": [
    "The vectorization of a document is a crucial step to modeling in Sentiment Analysis due to the power to reduce or increase the importance of words or tokens. The main idea of vectorization is to create a MxN matrix, X, where N is the number of unique words and M is the number of tweets where the value X(i,j) represents a words value to a tweets. The value could be whether it exists in the tweet or not, the frequency of the word in the tweet, and even some normalized version of the word's relationship to the tweet.\n",
    "\n",
    "Since a tweet after the processing stages has a median count of nine words, the frequency of a word in a tweet is likely to always be 0 if we have a total of 13590 unique tokens. Therefore, the matrix will be extremly sparse and the frequency of a token in a tweet will likely not go past 1 since a word repeating itself in a tweet is also not likely.\n",
    "\n",
    "Consequently, the TD-IDF Vectorizer and the Count Vectorizer were chosen to be compared against each other to see which one is more effective than the other in the Sentiment Analysis of tweets. The TF-IDF provides an extra layer from the frequency vectorizer since it normalizes the frequency of a word in the whole list of tweets. I.e., if a word exists in multiple tweets, the word will become less important and the unique words will have more authority in the models. There will also be a list of 50 tweets left out of the fitting of the vectorizer which will later be used to compare the results in a word cloud."
   ]
  },
  {
   "cell_type": "code",
   "execution_count": 208,
   "id": "a9782412-7549-4d81-b759-ebba28217719",
   "metadata": {},
   "outputs": [
    {
     "data": {
      "text/html": [
       "<pre>✔️ 0 ns (2021-10-30T12:31:36/2021-10-30T12:31:36)</pre>"
      ],
      "text/plain": [
       "<IPython.core.display.HTML object>"
      ]
     },
     "metadata": {},
     "output_type": "display_data"
    }
   ],
   "source": [
    "def dummy(doc):\n",
    "    return doc\n",
    "\n",
    "test_n = 50"
   ]
  },
  {
   "cell_type": "code",
   "execution_count": 233,
   "id": "3ce6b81b-8c0d-459f-b7c1-e827bb4d621a",
   "metadata": {},
   "outputs": [
    {
     "data": {
      "text/html": [
       "<pre>✔️ 62 ms (2021-10-30T12:33:18/2021-10-30T12:33:19)</pre>"
      ],
      "text/plain": [
       "<IPython.core.display.HTML object>"
      ]
     },
     "metadata": {},
     "output_type": "display_data"
    }
   ],
   "source": [
    "# Define Count Vectorizer\n",
    "from sklearn.feature_extraction.text import CountVectorizer\n",
    "cv = CountVectorizer(\n",
    "        analyzer='word',\n",
    "        tokenizer=dummy,\n",
    "        preprocessor=dummy,\n",
    "        max_features=1000\n",
    "    ) \n",
    "\n",
    "# Apply Vectorizer on Token Lists\n",
    "cv_vect = cv.fit_transform(df['stemmed'][:-test_n]) \n",
    "cv_vect_test = cv.transform(df['stemmed'][-test_n:])"
   ]
  },
  {
   "cell_type": "code",
   "execution_count": 234,
   "id": "a0b7c5a0-7c88-433c-a3bf-fbef6f981c6f",
   "metadata": {},
   "outputs": [
    {
     "data": {
      "text/html": [
       "<pre>✔️ 62 ms (2021-10-30T12:33:19/2021-10-30T12:33:19)</pre>"
      ],
      "text/plain": [
       "<IPython.core.display.HTML object>"
      ]
     },
     "metadata": {},
     "output_type": "display_data"
    }
   ],
   "source": [
    "# Define TF-IDF Vectorizer\n",
    "from sklearn.feature_extraction.text import TfidfVectorizer\n",
    "\n",
    "tfidf = TfidfVectorizer(\n",
    "        analyzer='word',\n",
    "        tokenizer=dummy,\n",
    "        preprocessor=dummy,\n",
    "        max_features=1000\n",
    "    ) \n",
    "\n",
    "# Apply Vectorizer on Token Lists\n",
    "tfidf_vect = tfidf.fit_transform(df['stemmed'][:-test_n])\n",
    "tfidf_vect_test = tfidf.transform(df['stemmed'][-test_n:])"
   ]
  },
  {
   "cell_type": "markdown",
   "id": "85c6c6dd-e8d0-44f0-a924-fd611fdbfbc5",
   "metadata": {},
   "source": [
    "### Modeling"
   ]
  },
  {
   "cell_type": "markdown",
   "id": "cd7ba47b-8088-452c-8fae-b05d5565b248",
   "metadata": {},
   "source": [
    "In order to compare the two types of vectorizers, the two vectors were fed into the same K-Means clustering model with K equal to three clusters. The reason two clusters were chosen is to see if the cluster can identify extremes sentiments on tweets regarding AI. Once the models are trained using the two vectors, they will be compared based on the classification of 100 tweets that were left out of the training set.\n",
    "\n",
    "Prior to the clustering, the Sentiment Analyzer tool, VADER, from NLTK was used to produce sentiment results on the test set of tweets to see the neutral, positive and negative tweets were labeled separated correctly in the clustering. This will provide a reference of how well each vectorizer worked to split up the tweets based on sentiment. After VADER was applied, there was an even split of 51% of tweets with a positive sentiment and 49% with a negative sentiment. The test set has 29 positive and 21 negative tweets."
   ]
  },
  {
   "cell_type": "markdown",
   "id": "7d8351ac-9e17-4d28-a68a-632f6d1c5ddf",
   "metadata": {},
   "source": [
    "#### Vader Sentiment Analyzer"
   ]
  },
  {
   "cell_type": "code",
   "execution_count": 225,
   "id": "13a666ee-c7cb-4c77-ac24-88f240148440",
   "metadata": {},
   "outputs": [
    {
     "data": {
      "text/html": [
       "<pre>✔️ 1.81 s (2021-10-30T12:32:26/2021-10-30T12:32:28)</pre>"
      ],
      "text/plain": [
       "<IPython.core.display.HTML object>"
      ]
     },
     "metadata": {},
     "output_type": "display_data"
    }
   ],
   "source": [
    "from nltk.sentiment.vader import SentimentIntensityAnalyzer\n",
    "\n",
    "sid = SentimentIntensityAnalyzer()\n",
    "vader_res_pos = []\n",
    "vader_res_neg = []\n",
    "vader_res_neu = []\n",
    "vader_res_comp = []\n",
    "for sentence in df['tweet']:\n",
    "    ss = sid.polarity_scores(sentence)\n",
    "    vader_res_neg.append(ss['neg'])\n",
    "    vader_res_pos.append(ss['pos'])\n",
    "    vader_res_neu.append(ss['neu'])\n",
    "    vader_res_comp.append(ss['compound'])\n",
    "    \n",
    "df['vader_neg'] = vader_res_neg\n",
    "df['vader_pos'] = vader_res_pos\n",
    "df['vader_comp'] = vader_res_comp\n",
    "df['vader_res'] = ['pos' if x>0 else 'neg'  for x in df['vader_comp'].values]"
   ]
  },
  {
   "cell_type": "code",
   "execution_count": 226,
   "id": "48f8148c-9520-4535-8dad-14ccee9defa0",
   "metadata": {},
   "outputs": [
    {
     "data": {
      "text/html": [
       "<pre>✔️ 0 ns (2021-10-30T12:32:28/2021-10-30T12:32:28)</pre>"
      ],
      "text/plain": [
       "<IPython.core.display.HTML object>"
      ]
     },
     "metadata": {},
     "output_type": "display_data"
    },
    {
     "data": {
      "text/plain": [
       "pos    0.508906\n",
       "neg    0.491094\n",
       "Name: vader_res, dtype: float64"
      ]
     },
     "execution_count": 226,
     "metadata": {},
     "output_type": "execute_result"
    }
   ],
   "source": [
    "df['vader_res'].value_counts(normalize=True)"
   ]
  },
  {
   "cell_type": "code",
   "execution_count": 227,
   "id": "c8b7a364-ffff-45f3-ae1f-1a6e46fbb779",
   "metadata": {},
   "outputs": [
    {
     "data": {
      "text/html": [
       "<pre>✔️ 0 ns (2021-10-30T12:32:28/2021-10-30T12:32:28)</pre>"
      ],
      "text/plain": [
       "<IPython.core.display.HTML object>"
      ]
     },
     "metadata": {},
     "output_type": "display_data"
    },
    {
     "data": {
      "text/plain": [
       "pos    5400\n",
       "neg    5211\n",
       "Name: vader_res, dtype: int64"
      ]
     },
     "execution_count": 227,
     "metadata": {},
     "output_type": "execute_result"
    }
   ],
   "source": [
    "df['vader_res'].value_counts()"
   ]
  },
  {
   "cell_type": "code",
   "execution_count": 228,
   "id": "2f9afc7c-44f5-4425-92db-0234d00cd016",
   "metadata": {},
   "outputs": [
    {
     "data": {
      "text/html": [
       "<pre>✔️ 0 ns (2021-10-30T12:32:28/2021-10-30T12:32:28)</pre>"
      ],
      "text/plain": [
       "<IPython.core.display.HTML object>"
      ]
     },
     "metadata": {},
     "output_type": "display_data"
    },
    {
     "data": {
      "text/plain": [
       "pos    29\n",
       "neg    21\n",
       "Name: vader_res, dtype: int64"
      ]
     },
     "execution_count": 228,
     "metadata": {},
     "output_type": "execute_result"
    }
   ],
   "source": [
    "df.iloc[-test_n:]['vader_res'].value_counts()"
   ]
  },
  {
   "cell_type": "code",
   "execution_count": 229,
   "id": "2b29e615-f965-4264-8dd2-8847ce88a5f8",
   "metadata": {},
   "outputs": [
    {
     "data": {
      "text/html": [
       "<pre>✔️ 0 ns (2021-10-30T12:32:28/2021-10-30T12:32:28)</pre>"
      ],
      "text/plain": [
       "<IPython.core.display.HTML object>"
      ]
     },
     "metadata": {},
     "output_type": "display_data"
    },
    {
     "data": {
      "text/plain": [
       "10611"
      ]
     },
     "execution_count": 229,
     "metadata": {},
     "output_type": "execute_result"
    }
   ],
   "source": [
    "len(df)"
   ]
  },
  {
   "cell_type": "markdown",
   "id": "cbb23c1b-b7bc-429d-bad0-aad45c2667ad",
   "metadata": {},
   "source": [
    "#### KMeans Clustering"
   ]
  },
  {
   "cell_type": "code",
   "execution_count": 230,
   "id": "0f508d11-7aa7-4b7c-93f4-4d2b5b818e61",
   "metadata": {},
   "outputs": [
    {
     "data": {
      "text/html": [
       "<pre>✔️ 0 ns (2021-10-30T12:32:28/2021-10-30T12:32:28)</pre>"
      ],
      "text/plain": [
       "<IPython.core.display.HTML object>"
      ]
     },
     "metadata": {},
     "output_type": "display_data"
    }
   ],
   "source": [
    "from sklearn.cluster import KMeans\n",
    "n_clusters = 2"
   ]
  },
  {
   "cell_type": "code",
   "execution_count": 235,
   "id": "00c09ff9-b369-4c44-b4b6-0d68e5b8c2a8",
   "metadata": {},
   "outputs": [
    {
     "data": {
      "text/html": [
       "<pre>✔️ 2.59 s (2021-10-30T12:33:24/2021-10-30T12:33:27)</pre>"
      ],
      "text/plain": [
       "<IPython.core.display.HTML object>"
      ]
     },
     "metadata": {},
     "output_type": "display_data"
    },
    {
     "data": {
      "text/plain": [
       "0    9837\n",
       "1     774\n",
       "Name: cv_label, dtype: int64"
      ]
     },
     "execution_count": 235,
     "metadata": {},
     "output_type": "execute_result"
    }
   ],
   "source": [
    "# Define Count Vect KMeans and Train\n",
    "cv_kmeans = KMeans(n_clusters=n_clusters).fit(cv_vect)\n",
    "\n",
    "# Predict Cluster on Test Data and Train\n",
    "df['cv_label'] = cv_kmeans.predict(cv_vect).tolist() + cv_kmeans.predict(cv_vect_test).tolist()\n",
    "df['cv_label'].value_counts()"
   ]
  },
  {
   "cell_type": "code",
   "execution_count": 236,
   "id": "3c7d8bc2-9b6b-4539-8983-de882b126d9e",
   "metadata": {},
   "outputs": [
    {
     "data": {
      "text/html": [
       "<pre>✔️ 4.88 s (2021-10-30T12:33:27/2021-10-30T12:33:32)</pre>"
      ],
      "text/plain": [
       "<IPython.core.display.HTML object>"
      ]
     },
     "metadata": {},
     "output_type": "display_data"
    },
    {
     "data": {
      "text/plain": [
       "0    10402\n",
       "1      209\n",
       "Name: tfidf_label, dtype: int64"
      ]
     },
     "execution_count": 236,
     "metadata": {},
     "output_type": "execute_result"
    }
   ],
   "source": [
    "# Define TF-IDF Vect KMeans\n",
    "tfidf_kmeans = KMeans(n_clusters=n_clusters).fit(tfidf_vect)\n",
    "\n",
    "# Predict Cluster on Test Data and Train\n",
    "df['tfidf_label'] = tfidf_kmeans.predict(tfidf_vect).tolist() + tfidf_kmeans.predict(tfidf_vect_test).tolist()\n",
    "df['tfidf_label'].value_counts()"
   ]
  },
  {
   "cell_type": "markdown",
   "id": "d4a90fbb-1135-48be-9920-af9b88bf55f2",
   "metadata": {},
   "source": [
    "## Results"
   ]
  },
  {
   "cell_type": "markdown",
   "id": "e4d778cf-0a8b-4f26-9da0-ed60bf9bf94d",
   "metadata": {},
   "source": [
    "To compare the results of the two Vectorizers, the results from the VADER sentiment analyzer were used as a reference. Thus, the test set of tweets were used as a reference to see if the KMeans cluster separated positive and negative tweets correctly or not. Then, the CV and TFIDF vectorizers can be compared using their accuracy to separate the two types of tweets."
   ]
  },
  {
   "cell_type": "markdown",
   "id": "1f32b078-c4ac-470c-9270-b6d9f22e71d4",
   "metadata": {},
   "source": [
    "### Cluster Results"
   ]
  },
  {
   "cell_type": "markdown",
   "id": "2e8d47be-ebcd-4676-b0f1-5484294798b8",
   "metadata": {},
   "source": [
    "According the prediction of the clustering by each of the KMeans model used, the only Count Vectorizer was able to separate more tweets than the TF-IDF vectorizer model. The TF-IDF only returned a total of 209 values in a separate cluster unlike the Count Vectorizer model which returned 774 tweets in a separate cluster. "
   ]
  },
  {
   "cell_type": "code",
   "execution_count": 269,
   "id": "4be0c5e8-84cb-4f8c-a52b-7920d9e70c5b",
   "metadata": {},
   "outputs": [
    {
     "data": {
      "text/html": [
       "<pre>✔️ 15 ms (2021-10-30T12:48:45/2021-10-30T12:48:45)</pre>"
      ],
      "text/plain": [
       "<IPython.core.display.HTML object>"
      ]
     },
     "metadata": {},
     "output_type": "display_data"
    },
    {
     "data": {
      "text/html": [
       "<div>\n",
       "<style scoped>\n",
       "    .dataframe tbody tr th:only-of-type {\n",
       "        vertical-align: middle;\n",
       "    }\n",
       "\n",
       "    .dataframe tbody tr th {\n",
       "        vertical-align: top;\n",
       "    }\n",
       "\n",
       "    .dataframe thead tr th {\n",
       "        text-align: left;\n",
       "    }\n",
       "\n",
       "    .dataframe thead tr:last-of-type th {\n",
       "        text-align: right;\n",
       "    }\n",
       "</style>\n",
       "<table border=\"1\" class=\"dataframe\">\n",
       "  <thead>\n",
       "    <tr>\n",
       "      <th></th>\n",
       "      <th colspan=\"2\" halign=\"left\">stemmed</th>\n",
       "    </tr>\n",
       "    <tr>\n",
       "      <th>cv_label</th>\n",
       "      <th>0</th>\n",
       "      <th>1</th>\n",
       "    </tr>\n",
       "    <tr>\n",
       "      <th>new_index</th>\n",
       "      <th></th>\n",
       "      <th></th>\n",
       "    </tr>\n",
       "  </thead>\n",
       "  <tbody>\n",
       "    <tr>\n",
       "      <th>0</th>\n",
       "      <td>[let, sink, rep, dan, crenshaw, slam, per, per...</td>\n",
       "      <td>[chill, je, lui, dit, shut, goy, it, s, place,...</td>\n",
       "    </tr>\n",
       "    <tr>\n",
       "      <th>1</th>\n",
       "      <td>[botprompt, unimagin, quantiti, chees]</td>\n",
       "      <td>[leak, photo, may, show, meta, s, much, rumor,...</td>\n",
       "    </tr>\n",
       "    <tr>\n",
       "      <th>2</th>\n",
       "      <td>[glad, like, we, ve, work, month, whole, deliv...</td>\n",
       "      <td>[there, s, probabl, sort, limit, could, persis...</td>\n",
       "    </tr>\n",
       "    <tr>\n",
       "      <th>3</th>\n",
       "      <td>[go, deleg, film, book, music, critiqu, well]</td>\n",
       "      <td>[don, t, follow, it, s, good, time, ad, restor...</td>\n",
       "    </tr>\n",
       "    <tr>\n",
       "      <th>4</th>\n",
       "      <td>[facebook, crack, smoke, obvious, communiti, s...</td>\n",
       "      <td>[anoth, feather, googl, servic, s, cap, look, ...</td>\n",
       "    </tr>\n",
       "    <tr>\n",
       "      <th>5</th>\n",
       "      <td>[consid, technologist, look, someth, typic, de...</td>\n",
       "      <td>[mcdonald, s, ibm, drive, thru, partnership, s...</td>\n",
       "    </tr>\n",
       "    <tr>\n",
       "      <th>6</th>\n",
       "      <td>[hurri, premium, domnnam, forsal, web, metavers]</td>\n",
       "      <td>[yes, make, total, sens, that, s, whole, point...</td>\n",
       "    </tr>\n",
       "    <tr>\n",
       "      <th>7</th>\n",
       "      <td>[late, ml, wave, go, time, blockchn]</td>\n",
       "      <td>[self, learn, especi, deep, learn, realli, tri...</td>\n",
       "    </tr>\n",
       "    <tr>\n",
       "      <th>8</th>\n",
       "      <td>[welcom, aboard, civ, trn, make, proud, civ, f...</td>\n",
       "      <td>[memori, someon, who, s, pass, away, remn, bea...</td>\n",
       "    </tr>\n",
       "    <tr>\n",
       "      <th>9</th>\n",
       "      <td>[sold, agld, price, usdt, profit, use, cryptos...</td>\n",
       "      <td>[work, franchis, sale, repres, inform, she, s,...</td>\n",
       "    </tr>\n",
       "  </tbody>\n",
       "</table>\n",
       "</div>"
      ],
      "text/plain": [
       "                                                     stemmed  \\\n",
       "cv_label                                                   0   \n",
       "new_index                                                      \n",
       "0          [let, sink, rep, dan, crenshaw, slam, per, per...   \n",
       "1                     [botprompt, unimagin, quantiti, chees]   \n",
       "2          [glad, like, we, ve, work, month, whole, deliv...   \n",
       "3              [go, deleg, film, book, music, critiqu, well]   \n",
       "4          [facebook, crack, smoke, obvious, communiti, s...   \n",
       "5          [consid, technologist, look, someth, typic, de...   \n",
       "6           [hurri, premium, domnnam, forsal, web, metavers]   \n",
       "7                       [late, ml, wave, go, time, blockchn]   \n",
       "8          [welcom, aboard, civ, trn, make, proud, civ, f...   \n",
       "9          [sold, agld, price, usdt, profit, use, cryptos...   \n",
       "\n",
       "                                                              \n",
       "cv_label                                                   1  \n",
       "new_index                                                     \n",
       "0          [chill, je, lui, dit, shut, goy, it, s, place,...  \n",
       "1          [leak, photo, may, show, meta, s, much, rumor,...  \n",
       "2          [there, s, probabl, sort, limit, could, persis...  \n",
       "3          [don, t, follow, it, s, good, time, ad, restor...  \n",
       "4          [anoth, feather, googl, servic, s, cap, look, ...  \n",
       "5          [mcdonald, s, ibm, drive, thru, partnership, s...  \n",
       "6          [yes, make, total, sens, that, s, whole, point...  \n",
       "7          [self, learn, especi, deep, learn, realli, tri...  \n",
       "8          [memori, someon, who, s, pass, away, remn, bea...  \n",
       "9          [work, franchis, sale, repres, inform, she, s,...  "
      ]
     },
     "execution_count": 269,
     "metadata": {},
     "output_type": "execute_result"
    }
   ],
   "source": [
    "clus_res_cv = df.groupby(['cv_label']).head(10)[['stemmed', 'cv_label']]\n",
    "clus_res_cv['new_index']  = clus_res_cv.groupby('cv_label').cumcount()\n",
    "clus_res_cv.set_index(['new_index', 'cv_label']).unstack()"
   ]
  },
  {
   "cell_type": "code",
   "execution_count": 259,
   "id": "4723886f-3a56-4c6b-997d-2be6337f18df",
   "metadata": {},
   "outputs": [
    {
     "data": {
      "text/html": [
       "<pre>✔️ 15 ms (2021-10-30T12:43:00/2021-10-30T12:43:00)</pre>"
      ],
      "text/plain": [
       "<IPython.core.display.HTML object>"
      ]
     },
     "metadata": {},
     "output_type": "display_data"
    },
    {
     "data": {
      "text/html": [
       "<div>\n",
       "<style scoped>\n",
       "    .dataframe tbody tr th:only-of-type {\n",
       "        vertical-align: middle;\n",
       "    }\n",
       "\n",
       "    .dataframe tbody tr th {\n",
       "        vertical-align: top;\n",
       "    }\n",
       "\n",
       "    .dataframe thead tr th {\n",
       "        text-align: left;\n",
       "    }\n",
       "\n",
       "    .dataframe thead tr:last-of-type th {\n",
       "        text-align: right;\n",
       "    }\n",
       "</style>\n",
       "<table border=\"1\" class=\"dataframe\">\n",
       "  <thead>\n",
       "    <tr>\n",
       "      <th></th>\n",
       "      <th colspan=\"2\" halign=\"left\">stemmed</th>\n",
       "    </tr>\n",
       "    <tr>\n",
       "      <th>tfidf_label</th>\n",
       "      <th>0</th>\n",
       "      <th>1</th>\n",
       "    </tr>\n",
       "    <tr>\n",
       "      <th>new_index</th>\n",
       "      <th></th>\n",
       "      <th></th>\n",
       "    </tr>\n",
       "  </thead>\n",
       "  <tbody>\n",
       "    <tr>\n",
       "      <th>0</th>\n",
       "      <td>[let, sink, rep, dan, crenshaw, slam, per, per...</td>\n",
       "      <td>[don, t, follow, it, s, good, time, ad, restor...</td>\n",
       "    </tr>\n",
       "    <tr>\n",
       "      <th>1</th>\n",
       "      <td>[botprompt, unimagin, quantiti, chees]</td>\n",
       "      <td>[think, result, ad, restor, pictur, creat, art...</td>\n",
       "    </tr>\n",
       "    <tr>\n",
       "      <th>2</th>\n",
       "      <td>[glad, like, we, ve, work, month, whole, deliv...</td>\n",
       "      <td>[hey, ad, restor, pictur, creat, art, remov, b...</td>\n",
       "    </tr>\n",
       "    <tr>\n",
       "      <th>3</th>\n",
       "      <td>[go, deleg, film, book, music, critiqu, well]</td>\n",
       "      <td>[hope, like, ad, restor, pictur, creat, art, r...</td>\n",
       "    </tr>\n",
       "    <tr>\n",
       "      <th>4</th>\n",
       "      <td>[facebook, crack, smoke, obvious, communiti, s...</td>\n",
       "      <td>[best, ad, restor, pictur, creat, art, remov, ...</td>\n",
       "    </tr>\n",
       "    <tr>\n",
       "      <th>5</th>\n",
       "      <td>[consid, technologist, look, someth, typic, de...</td>\n",
       "      <td>[pleasur, help, ad, restor, pictur, creat, art...</td>\n",
       "    </tr>\n",
       "    <tr>\n",
       "      <th>6</th>\n",
       "      <td>[hurri, premium, domnnam, forsal, web, metavers]</td>\n",
       "      <td>[cours, nice, help, ad, restor, pictur, creat,...</td>\n",
       "    </tr>\n",
       "    <tr>\n",
       "      <th>7</th>\n",
       "      <td>[chill, je, lui, dit, shut, goy, it, s, place,...</td>\n",
       "      <td>[like, result, ad, restor, pictur, creat, art,...</td>\n",
       "    </tr>\n",
       "    <tr>\n",
       "      <th>8</th>\n",
       "      <td>[late, ml, wave, go, time, blockchn]</td>\n",
       "      <td>[sure, hope, like, ad, restor, pictur, creat, ...</td>\n",
       "    </tr>\n",
       "    <tr>\n",
       "      <th>9</th>\n",
       "      <td>[welcom, aboard, civ, trn, make, proud, civ, f...</td>\n",
       "      <td>[color, use, ad, restor, pictur, creat, art, r...</td>\n",
       "    </tr>\n",
       "  </tbody>\n",
       "</table>\n",
       "</div>"
      ],
      "text/plain": [
       "                                                       stemmed  \\\n",
       "tfidf_label                                                  0   \n",
       "new_index                                                        \n",
       "0            [let, sink, rep, dan, crenshaw, slam, per, per...   \n",
       "1                       [botprompt, unimagin, quantiti, chees]   \n",
       "2            [glad, like, we, ve, work, month, whole, deliv...   \n",
       "3                [go, deleg, film, book, music, critiqu, well]   \n",
       "4            [facebook, crack, smoke, obvious, communiti, s...   \n",
       "5            [consid, technologist, look, someth, typic, de...   \n",
       "6             [hurri, premium, domnnam, forsal, web, metavers]   \n",
       "7            [chill, je, lui, dit, shut, goy, it, s, place,...   \n",
       "8                         [late, ml, wave, go, time, blockchn]   \n",
       "9            [welcom, aboard, civ, trn, make, proud, civ, f...   \n",
       "\n",
       "                                                                \n",
       "tfidf_label                                                  1  \n",
       "new_index                                                       \n",
       "0            [don, t, follow, it, s, good, time, ad, restor...  \n",
       "1            [think, result, ad, restor, pictur, creat, art...  \n",
       "2            [hey, ad, restor, pictur, creat, art, remov, b...  \n",
       "3            [hope, like, ad, restor, pictur, creat, art, r...  \n",
       "4            [best, ad, restor, pictur, creat, art, remov, ...  \n",
       "5            [pleasur, help, ad, restor, pictur, creat, art...  \n",
       "6            [cours, nice, help, ad, restor, pictur, creat,...  \n",
       "7            [like, result, ad, restor, pictur, creat, art,...  \n",
       "8            [sure, hope, like, ad, restor, pictur, creat, ...  \n",
       "9            [color, use, ad, restor, pictur, creat, art, r...  "
      ]
     },
     "execution_count": 259,
     "metadata": {},
     "output_type": "execute_result"
    }
   ],
   "source": [
    "clus_res_tfidf = df.groupby(['tfidf_label']).head(10)[['stemmed', 'tfidf_label']]\n",
    "clus_res_tfidf['new_index']  = clus_res_tfidf.groupby('tfidf_label').cumcount()\n",
    "clus_res_tfidf.set_index(['new_index', 'tfidf_label']).unstack()"
   ]
  },
  {
   "cell_type": "markdown",
   "id": "2a4cf657-ec67-425b-9770-5b46ee682863",
   "metadata": {},
   "source": [
    "The tweets on separate cluster identified by the TF-IDF KMeans cluster shows how the cluster separated them by the use of words relating to pictures like Art, Restoring and Creating. Therefore, the KMeans model failed to separate by sentiment, but it was able to find a patter to create two clusters. The TF-IDF vectorized cluster failed to find as many tweets to fall onto the smaller cluster while the Count Vectorizer on the other hand separated more even if this was not the intent of the study. The Count Vectorizer did not return a kind of pattern seen on the smaller cluster like the TF-IDF. The tokens found on the tweets are more generic than the TF-IDF cluster. Nonetheless, the study's purpose was to identify the sentiment of the tweets which it failed to do so. The study should focus on using a supervised approach to get the sentiment of tweets on future approaches rather than using a clustering method to separate tweets with a bag of word model."
   ]
  },
  {
   "cell_type": "markdown",
   "id": "d7497397-0cab-4456-bfd5-eea413148921",
   "metadata": {
    "tags": []
   },
   "source": [
    "### Test Set Results"
   ]
  },
  {
   "cell_type": "markdown",
   "id": "3b57c3bf-18a2-46d2-9edc-d676e8a95de5",
   "metadata": {},
   "source": [
    "The test set also reveal how none of the vectorizer Kmeans models were  able to separate tweets based on sentiment. The results are inconclusive as to which vectorizer works best since KMeans is unable to create two large clusters with sentiments in hand. The test resuls only show how the Count Vectorizer was able to separate two tweets on the test set while the TF-IDF did not. It however does not mean that the TF-IDF vectorizer performed better than the Count Vectorizer. It just means there was more variability in the test set regarding the pattern found by the Count Vectorizer KMeans model."
   ]
  },
  {
   "cell_type": "code",
   "execution_count": 266,
   "id": "55cbf5da-d87b-4402-8065-7d50906e5905",
   "metadata": {},
   "outputs": [
    {
     "data": {
      "text/html": [
       "<pre>✔️ 0 ns (2021-10-30T12:48:00/2021-10-30T12:48:00)</pre>"
      ],
      "text/plain": [
       "<IPython.core.display.HTML object>"
      ]
     },
     "metadata": {},
     "output_type": "display_data"
    }
   ],
   "source": [
    "# Get Data Frame of the Test Set\n",
    "test_df = df.iloc[-test_n:]"
   ]
  },
  {
   "cell_type": "markdown",
   "id": "93831ad8-3e9a-48b4-8310-40de60c2a525",
   "metadata": {},
   "source": [
    "#### Count Vectorizer Results"
   ]
  },
  {
   "cell_type": "code",
   "execution_count": 273,
   "id": "4fc6bb48-8a86-4e7d-9d37-0636c95e54d0",
   "metadata": {},
   "outputs": [
    {
     "data": {
      "text/html": [
       "<pre>✔️ 16 ms (2021-10-30T12:54:05/2021-10-30T12:54:05)</pre>"
      ],
      "text/plain": [
       "<IPython.core.display.HTML object>"
      ]
     },
     "metadata": {},
     "output_type": "display_data"
    },
    {
     "data": {
      "text/html": [
       "<div>\n",
       "<style scoped>\n",
       "    .dataframe tbody tr th:only-of-type {\n",
       "        vertical-align: middle;\n",
       "    }\n",
       "\n",
       "    .dataframe tbody tr th {\n",
       "        vertical-align: top;\n",
       "    }\n",
       "\n",
       "    .dataframe thead th {\n",
       "        text-align: right;\n",
       "    }\n",
       "</style>\n",
       "<table border=\"1\" class=\"dataframe\">\n",
       "  <thead>\n",
       "    <tr style=\"text-align: right;\">\n",
       "      <th>vader_res</th>\n",
       "      <th>neg</th>\n",
       "      <th>pos</th>\n",
       "    </tr>\n",
       "    <tr>\n",
       "      <th>cv_label</th>\n",
       "      <th></th>\n",
       "      <th></th>\n",
       "    </tr>\n",
       "  </thead>\n",
       "  <tbody>\n",
       "    <tr>\n",
       "      <th>0</th>\n",
       "      <td>19</td>\n",
       "      <td>27</td>\n",
       "    </tr>\n",
       "    <tr>\n",
       "      <th>1</th>\n",
       "      <td>2</td>\n",
       "      <td>2</td>\n",
       "    </tr>\n",
       "  </tbody>\n",
       "</table>\n",
       "</div>"
      ],
      "text/plain": [
       "vader_res  neg  pos\n",
       "cv_label           \n",
       "0           19   27\n",
       "1            2    2"
      ]
     },
     "execution_count": 273,
     "metadata": {},
     "output_type": "execute_result"
    }
   ],
   "source": [
    "test_df.groupby(['cv_label', 'vader_res']).size().unstack()"
   ]
  },
  {
   "cell_type": "code",
   "execution_count": 271,
   "id": "e5629572-efe4-4d74-b4ef-61eca27b4850",
   "metadata": {},
   "outputs": [
    {
     "data": {
      "text/html": [
       "<pre>✔️ 0 ns (2021-10-30T12:53:17/2021-10-30T12:53:17)</pre>"
      ],
      "text/plain": [
       "<IPython.core.display.HTML object>"
      ]
     },
     "metadata": {},
     "output_type": "display_data"
    },
    {
     "data": {
      "text/html": [
       "<div>\n",
       "<style scoped>\n",
       "    .dataframe tbody tr th:only-of-type {\n",
       "        vertical-align: middle;\n",
       "    }\n",
       "\n",
       "    .dataframe tbody tr th {\n",
       "        vertical-align: top;\n",
       "    }\n",
       "\n",
       "    .dataframe thead tr th {\n",
       "        text-align: left;\n",
       "    }\n",
       "\n",
       "    .dataframe thead tr:last-of-type th {\n",
       "        text-align: right;\n",
       "    }\n",
       "</style>\n",
       "<table border=\"1\" class=\"dataframe\">\n",
       "  <thead>\n",
       "    <tr>\n",
       "      <th></th>\n",
       "      <th colspan=\"2\" halign=\"left\">stemmed</th>\n",
       "    </tr>\n",
       "    <tr>\n",
       "      <th>cv_label</th>\n",
       "      <th>0</th>\n",
       "      <th>1</th>\n",
       "    </tr>\n",
       "    <tr>\n",
       "      <th>new_index</th>\n",
       "      <th></th>\n",
       "      <th></th>\n",
       "    </tr>\n",
       "  </thead>\n",
       "  <tbody>\n",
       "    <tr>\n",
       "      <th>0</th>\n",
       "      <td>[vlog, good, sourc, incom, creator, good, sell...</td>\n",
       "      <td>[test, get, fire, that, s, real, cultur, exper...</td>\n",
       "    </tr>\n",
       "    <tr>\n",
       "      <th>1</th>\n",
       "      <td>[growth, experienc, today, core, purpos, lead,...</td>\n",
       "      <td>[cool, use, cradlepoint, s, iot, solut, singap...</td>\n",
       "    </tr>\n",
       "    <tr>\n",
       "      <th>2</th>\n",
       "      <td>[leadership, follow, mission, connect, peopl, ...</td>\n",
       "      <td>[cybersecur, blind, spot, s, inher, vulner]</td>\n",
       "    </tr>\n",
       "    <tr>\n",
       "      <th>3</th>\n",
       "      <td>[navig, trap, facebook, social, network, platf...</td>\n",
       "      <td>[ian, bremmer, delet, concept, around, sinc, a...</td>\n",
       "    </tr>\n",
       "    <tr>\n",
       "      <th>4</th>\n",
       "      <td>[chanc, vw, dieselg, like, defeat, devic, use,...</td>\n",
       "      <td>NaN</td>\n",
       "    </tr>\n",
       "    <tr>\n",
       "      <th>5</th>\n",
       "      <td>[growth, face, valu, noth, wrong, goal, fact, ...</td>\n",
       "      <td>NaN</td>\n",
       "    </tr>\n",
       "    <tr>\n",
       "      <th>6</th>\n",
       "      <td>[facebook, exist, connect, everi, person, worl...</td>\n",
       "      <td>NaN</td>\n",
       "    </tr>\n",
       "    <tr>\n",
       "      <th>7</th>\n",
       "      <td>[success, datasci, enterpris, analyt, visual, ...</td>\n",
       "      <td>NaN</td>\n",
       "    </tr>\n",
       "    <tr>\n",
       "      <th>8</th>\n",
       "      <td>[possess, gay, ghost, haha]</td>\n",
       "      <td>NaN</td>\n",
       "    </tr>\n",
       "    <tr>\n",
       "      <th>9</th>\n",
       "      <td>[leadership, geniouxmg, learn, busi, innov, vi...</td>\n",
       "      <td>NaN</td>\n",
       "    </tr>\n",
       "  </tbody>\n",
       "</table>\n",
       "</div>"
      ],
      "text/plain": [
       "                                                     stemmed  \\\n",
       "cv_label                                                   0   \n",
       "new_index                                                      \n",
       "0          [vlog, good, sourc, incom, creator, good, sell...   \n",
       "1          [growth, experienc, today, core, purpos, lead,...   \n",
       "2          [leadership, follow, mission, connect, peopl, ...   \n",
       "3          [navig, trap, facebook, social, network, platf...   \n",
       "4          [chanc, vw, dieselg, like, defeat, devic, use,...   \n",
       "5          [growth, face, valu, noth, wrong, goal, fact, ...   \n",
       "6          [facebook, exist, connect, everi, person, worl...   \n",
       "7          [success, datasci, enterpris, analyt, visual, ...   \n",
       "8                                [possess, gay, ghost, haha]   \n",
       "9          [leadership, geniouxmg, learn, busi, innov, vi...   \n",
       "\n",
       "                                                              \n",
       "cv_label                                                   1  \n",
       "new_index                                                     \n",
       "0          [test, get, fire, that, s, real, cultur, exper...  \n",
       "1          [cool, use, cradlepoint, s, iot, solut, singap...  \n",
       "2                [cybersecur, blind, spot, s, inher, vulner]  \n",
       "3          [ian, bremmer, delet, concept, around, sinc, a...  \n",
       "4                                                        NaN  \n",
       "5                                                        NaN  \n",
       "6                                                        NaN  \n",
       "7                                                        NaN  \n",
       "8                                                        NaN  \n",
       "9                                                        NaN  "
      ]
     },
     "execution_count": 271,
     "metadata": {},
     "output_type": "execute_result"
    }
   ],
   "source": [
    "clus_res_cv = test_df.groupby(['cv_label']).head(10)[['stemmed', 'cv_label']]\n",
    "clus_res_cv['new_index']  = clus_res_cv.groupby('cv_label').cumcount()\n",
    "clus_res_cv.set_index(['new_index', 'cv_label']).unstack()"
   ]
  },
  {
   "cell_type": "markdown",
   "id": "ad7b46a3-12f4-4036-93b2-071454c2f85e",
   "metadata": {},
   "source": [
    "#### TF-IDF Vectorizer Results"
   ]
  },
  {
   "cell_type": "code",
   "execution_count": 238,
   "id": "87ad225f-661d-478f-8485-73553b946651",
   "metadata": {},
   "outputs": [
    {
     "data": {
      "text/html": [
       "<pre>✔️ 0 ns (2021-10-30T12:33:32/2021-10-30T12:33:32)</pre>"
      ],
      "text/plain": [
       "<IPython.core.display.HTML object>"
      ]
     },
     "metadata": {},
     "output_type": "display_data"
    },
    {
     "data": {
      "text/html": [
       "<div>\n",
       "<style scoped>\n",
       "    .dataframe tbody tr th:only-of-type {\n",
       "        vertical-align: middle;\n",
       "    }\n",
       "\n",
       "    .dataframe tbody tr th {\n",
       "        vertical-align: top;\n",
       "    }\n",
       "\n",
       "    .dataframe thead th {\n",
       "        text-align: right;\n",
       "    }\n",
       "</style>\n",
       "<table border=\"1\" class=\"dataframe\">\n",
       "  <thead>\n",
       "    <tr style=\"text-align: right;\">\n",
       "      <th>vader_res</th>\n",
       "      <th>neg</th>\n",
       "      <th>pos</th>\n",
       "    </tr>\n",
       "    <tr>\n",
       "      <th>tfidf_label</th>\n",
       "      <th></th>\n",
       "      <th></th>\n",
       "    </tr>\n",
       "  </thead>\n",
       "  <tbody>\n",
       "    <tr>\n",
       "      <th>0</th>\n",
       "      <td>21</td>\n",
       "      <td>29</td>\n",
       "    </tr>\n",
       "  </tbody>\n",
       "</table>\n",
       "</div>"
      ],
      "text/plain": [
       "vader_res    neg  pos\n",
       "tfidf_label          \n",
       "0             21   29"
      ]
     },
     "execution_count": 238,
     "metadata": {},
     "output_type": "execute_result"
    }
   ],
   "source": [
    "test_df.groupby(['tfidf_label', 'vader_res']).size().unstack()"
   ]
  },
  {
   "cell_type": "code",
   "execution_count": 274,
   "id": "4900c79c-0245-4818-8bde-b44130d7c4cd",
   "metadata": {},
   "outputs": [
    {
     "data": {
      "text/html": [
       "<pre>✔️ 0 ns (2021-10-30T12:54:24/2021-10-30T12:54:25)</pre>"
      ],
      "text/plain": [
       "<IPython.core.display.HTML object>"
      ]
     },
     "metadata": {},
     "output_type": "display_data"
    },
    {
     "data": {
      "text/html": [
       "<div>\n",
       "<style scoped>\n",
       "    .dataframe tbody tr th:only-of-type {\n",
       "        vertical-align: middle;\n",
       "    }\n",
       "\n",
       "    .dataframe tbody tr th {\n",
       "        vertical-align: top;\n",
       "    }\n",
       "\n",
       "    .dataframe thead tr th {\n",
       "        text-align: left;\n",
       "    }\n",
       "\n",
       "    .dataframe thead tr:last-of-type th {\n",
       "        text-align: right;\n",
       "    }\n",
       "</style>\n",
       "<table border=\"1\" class=\"dataframe\">\n",
       "  <thead>\n",
       "    <tr>\n",
       "      <th></th>\n",
       "      <th>stemmed</th>\n",
       "    </tr>\n",
       "    <tr>\n",
       "      <th>tfidf_label</th>\n",
       "      <th>0</th>\n",
       "    </tr>\n",
       "    <tr>\n",
       "      <th>new_index</th>\n",
       "      <th></th>\n",
       "    </tr>\n",
       "  </thead>\n",
       "  <tbody>\n",
       "    <tr>\n",
       "      <th>0</th>\n",
       "      <td>[vlog, good, sourc, incom, creator, good, sell...</td>\n",
       "    </tr>\n",
       "    <tr>\n",
       "      <th>1</th>\n",
       "      <td>[growth, experienc, today, core, purpos, lead,...</td>\n",
       "    </tr>\n",
       "    <tr>\n",
       "      <th>2</th>\n",
       "      <td>[leadership, follow, mission, connect, peopl, ...</td>\n",
       "    </tr>\n",
       "    <tr>\n",
       "      <th>3</th>\n",
       "      <td>[navig, trap, facebook, social, network, platf...</td>\n",
       "    </tr>\n",
       "    <tr>\n",
       "      <th>4</th>\n",
       "      <td>[chanc, vw, dieselg, like, defeat, devic, use,...</td>\n",
       "    </tr>\n",
       "    <tr>\n",
       "      <th>5</th>\n",
       "      <td>[growth, face, valu, noth, wrong, goal, fact, ...</td>\n",
       "    </tr>\n",
       "    <tr>\n",
       "      <th>6</th>\n",
       "      <td>[facebook, exist, connect, everi, person, worl...</td>\n",
       "    </tr>\n",
       "    <tr>\n",
       "      <th>7</th>\n",
       "      <td>[success, datasci, enterpris, analyt, visual, ...</td>\n",
       "    </tr>\n",
       "    <tr>\n",
       "      <th>8</th>\n",
       "      <td>[possess, gay, ghost, haha]</td>\n",
       "    </tr>\n",
       "    <tr>\n",
       "      <th>9</th>\n",
       "      <td>[leadership, geniouxmg, learn, busi, innov, vi...</td>\n",
       "    </tr>\n",
       "  </tbody>\n",
       "</table>\n",
       "</div>"
      ],
      "text/plain": [
       "                                                       stemmed\n",
       "tfidf_label                                                  0\n",
       "new_index                                                     \n",
       "0            [vlog, good, sourc, incom, creator, good, sell...\n",
       "1            [growth, experienc, today, core, purpos, lead,...\n",
       "2            [leadership, follow, mission, connect, peopl, ...\n",
       "3            [navig, trap, facebook, social, network, platf...\n",
       "4            [chanc, vw, dieselg, like, defeat, devic, use,...\n",
       "5            [growth, face, valu, noth, wrong, goal, fact, ...\n",
       "6            [facebook, exist, connect, everi, person, worl...\n",
       "7            [success, datasci, enterpris, analyt, visual, ...\n",
       "8                                  [possess, gay, ghost, haha]\n",
       "9            [leadership, geniouxmg, learn, busi, innov, vi..."
      ]
     },
     "execution_count": 274,
     "metadata": {},
     "output_type": "execute_result"
    }
   ],
   "source": [
    "clus_res_tfidf = test_df.groupby(['tfidf_label']).head(10)[['stemmed', 'tfidf_label']]\n",
    "clus_res_tfidf['new_index']  = clus_res_tfidf.groupby('tfidf_label').cumcount()\n",
    "clus_res_tfidf.set_index(['new_index', 'tfidf_label']).unstack()"
   ]
  },
  {
   "cell_type": "markdown",
   "id": "790eccff-9642-45a4-872f-ab43d6b6e52f",
   "metadata": {},
   "source": [
    "## Conclusions"
   ]
  },
  {
   "cell_type": "markdown",
   "id": "10a5b6da-9b44-4e6d-bb5d-a39c9ef8a78e",
   "metadata": {},
   "source": [
    "The public sentiment towards AI is showing to be an unlikely value to be extracted from tweets without the use of Supervised Learning techniques. The KMeans algorithm chosen to create clusters based on different vectorization algorithms returned no conclusive results as to the sentiment towards Artificial Intelligence, but it did return a favorable outcome towards the TF-IDF vectorizer. The TF-IDF vectorizer provides a normalized version of the token frequency which can lead to better results when using tweets.\n",
    "\n",
    "In order to produce better results, a Supervised Method should be used on tweets since the accuracy of unsupervised methods on sparse data is unreliable. The Sentiment of AI will remain a mystery until a labeled and reliable dataset is picked up to train a model. Even using Sentiment Analyzer techniques like VADER have a limitation compared to the use of the human intellect to manually label the sentiment of a tweet. Nonetheless, as more is learned about the types of tools available to perform sentiment analysis on tweets, AI's impact on society will likely be revealed."
   ]
  }
 ],
 "metadata": {
  "kernelspec": {
   "display_name": "Python 3 (ipykernel)",
   "language": "python",
   "name": "python3"
  },
  "language_info": {
   "codemirror_mode": {
    "name": "ipython",
    "version": 3
   },
   "file_extension": ".py",
   "mimetype": "text/x-python",
   "name": "python",
   "nbconvert_exporter": "python",
   "pygments_lexer": "ipython3",
   "version": "3.9.7"
  }
 },
 "nbformat": 4,
 "nbformat_minor": 5
}
