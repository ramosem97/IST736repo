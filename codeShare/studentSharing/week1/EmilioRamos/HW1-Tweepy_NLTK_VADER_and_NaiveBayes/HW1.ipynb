{
 "cells": [
  {
   "cell_type": "markdown",
   "id": "ccc98413-428d-4a66-8743-40e912ee0faf",
   "metadata": {},
   "source": [
    "# Sentiment Analysis Python Package Frenzy: NLTK Default versus Vader\n",
    "<b> IST 736 - Text Mining - Homework 1 <br>\n",
    "<b> Emilio Ramos Monzalvo - eramosmo@syr.edu - 10/11/2021"
   ]
  },
  {
   "cell_type": "markdown",
   "id": "d5bbfaec-17bd-4c0e-95c9-c53edfd4d93b",
   "metadata": {},
   "source": [
    "## Introduction"
   ]
  },
  {
   "cell_type": "markdown",
   "id": "743a32f4-c01c-4ef7-ac9e-e39048f6cef2",
   "metadata": {},
   "source": [
    "### Problem Statement"
   ]
  },
  {
   "cell_type": "markdown",
   "id": "c3442211-b786-45d7-9e43-99d6dcbde781",
   "metadata": {},
   "source": [
    "Artificial Intelligence (AI) is an extraordinary field that can do wonders to society by making it easier for a population to be understood through Social Media, but it can also cause harm as shown in the 2016 United States Presidential Election where a candidate used it to target individuals with propaganda. People who are not familiar with it and its applications can have a misunderstood perception on its applications and capabilities as Hollywood has created films where an AI algorithm can take over the world. Most recently, the Looney Toons cartoon with Basketball Star Lebron James, showed an algorithm learning how to play basketball in order to beat Lebron. Realistic or far fetched, the attitude of a population towards AI can help determine what its focus can be in the future. In order to find the population's opinion, the study uses Social Media platforms, mainly Twitter, to get recent comments about the topic of AI.\n",
    "\n",
    "It is a common problem in Text Mining is trying to identify a sentiment on a particular subject. This area is known as Sentiment Analysis which has become quite popular due to its large set of applications. Some applications include understanding customer reviews or even analyzing the population sentiment to COVID-19. Consequently, there are a multitude of approaches and tools one can use to complete a Sentiment Analysis problem statement like this one. \n",
    "\n",
    "In Python, one of the most popular Data Science programming languages, there is one packages called Natural Language Toolkit (NLTK) that contains more than one built-in tool for Sentiment Analysis. NLTK's default Sentiment Analysis tool and the Valence Aware Dictionary and sEntiment Reasoner (VADER) are two packages that were put up to the test in order to check its compability with finding the sentiment of AI in social media. In this study, the two tools will be put to the test and be evaluated based on their effectiveness in this problem."
   ]
  },
  {
   "cell_type": "markdown",
   "id": "625d7c2e-3691-4ce2-bffc-db0a62bbfd20",
   "metadata": {
    "tags": []
   },
   "source": [
    "## Analysis and Models"
   ]
  },
  {
   "cell_type": "markdown",
   "id": "b2320609-64fa-4cca-88b3-b17ea2fc660b",
   "metadata": {
    "tags": []
   },
   "source": [
    "### About the Data"
   ]
  },
  {
   "cell_type": "markdown",
   "id": "cbdf8493-19d0-48a5-8fd6-90d7bc7bc81c",
   "metadata": {},
   "source": [
    "<b> Source: https://developer.twitter.com/en/docs/twitter-api/tools-and-libraries </b>"
   ]
  },
  {
   "cell_type": "markdown",
   "id": "03eb4624-2c3a-4f8b-a13f-e472d609c832",
   "metadata": {},
   "source": [
    "The data was pulled using the free API provided by Twitter where one can write a query to match tweets to a specific topic of choice. The API allows for one to set a time limit that checks what time range to pull the data from. Unfortunately, the API only allows for a maximum of 2000 tweets to be pulled per day, but it will still lead to an insight of the populations feelings towards AI.\n",
    "\n",
    "The query fed into the API was restricted to the English Language and a date no longer than 30 days from today, October 11th, 2021. The query is looking for any tweet that contains the characters AI separated by a space or end of tweet and/or start of tweet. The only field kept from the search was the text field from the tweet. No other field like user, location, favorite, or retweet was considered in order to simplify the analysis to only text data. The location, or geo-code, was not included in the query since it is not the analysis is not limited to a certain population."
   ]
  },
  {
   "cell_type": "code",
   "execution_count": 41,
   "id": "498f7223-fede-4cd3-96a0-fbd79dcc6842",
   "metadata": {},
   "outputs": [
    {
     "data": {
      "text/html": [
       "<pre>✔️ 625 ms (2021-10-15T13:42:23/2021-10-15T13:42:24)</pre>"
      ],
      "text/plain": [
       "<IPython.core.display.HTML object>"
      ]
     },
     "metadata": {},
     "output_type": "display_data"
    },
    {
     "name": "stdout",
     "output_type": "stream",
     "text": [
      "The autotime extension is already loaded. To reload it, use:\n",
      "  %reload_ext autotime\n"
     ]
    }
   ],
   "source": [
    "%load_ext autotime\n",
    "\n",
    "import pandas as pd\n",
    "import numpy as np\n",
    "\n",
    "import matplotlib.pyplot as plt\n",
    "import seaborn as sns\n",
    "\n",
    "import glob\n",
    "import json\n",
    "import tweepy\n",
    "\n",
    "import warnings\n",
    "warnings.filterwarnings(\"ignore\")\n",
    "\n",
    "path = 'C:\\\\Users\\\\ramos\\\\OneDrive\\\\Documents\\\\SyracuseUniversity\\\\9th_Quarter\\\\IST736\\\\Week01\\\\'"
   ]
  },
  {
   "cell_type": "code",
   "execution_count": 37,
   "id": "6904322b-079a-4a24-84d6-683681db3f63",
   "metadata": {
    "collapsed": true,
    "jupyter": {
     "outputs_hidden": true
    },
    "tags": []
   },
   "outputs": [
    {
     "data": {
      "text/html": [
       "<pre>✔️ 37.3 s (2021-10-15T13:36:39/2021-10-15T13:37:16)</pre>"
      ],
      "text/plain": [
       "<IPython.core.display.HTML object>"
      ]
     },
     "metadata": {},
     "output_type": "display_data"
    },
    {
     "name": "stderr",
     "output_type": "stream",
     "text": [
      "Unexpected parameter: since\n",
      "Unexpected parameter: since\n",
      "Unexpected parameter: since\n",
      "Unexpected parameter: since\n",
      "Unexpected parameter: since\n",
      "Unexpected parameter: since\n",
      "Unexpected parameter: since\n",
      "Unexpected parameter: since\n",
      "Unexpected parameter: since\n",
      "Unexpected parameter: since\n",
      "Unexpected parameter: since\n",
      "Unexpected parameter: since\n",
      "Unexpected parameter: since\n",
      "Unexpected parameter: since\n",
      "Unexpected parameter: since\n",
      "Unexpected parameter: since\n",
      "Unexpected parameter: since\n",
      "Unexpected parameter: since\n",
      "Unexpected parameter: since\n",
      "Unexpected parameter: since\n",
      "Unexpected parameter: since\n",
      "Unexpected parameter: since\n",
      "Unexpected parameter: since\n",
      "Unexpected parameter: since\n",
      "Unexpected parameter: since\n",
      "Unexpected parameter: since\n",
      "Unexpected parameter: since\n",
      "Unexpected parameter: since\n",
      "Unexpected parameter: since\n",
      "Unexpected parameter: since\n",
      "Unexpected parameter: since\n",
      "Unexpected parameter: since\n",
      "Unexpected parameter: since\n",
      "Unexpected parameter: since\n",
      "Unexpected parameter: since\n",
      "Unexpected parameter: since\n",
      "Unexpected parameter: since\n",
      "Unexpected parameter: since\n",
      "Unexpected parameter: since\n",
      "Unexpected parameter: since\n",
      "Unexpected parameter: since\n",
      "Unexpected parameter: since\n",
      "Unexpected parameter: since\n",
      "Unexpected parameter: since\n",
      "Unexpected parameter: since\n",
      "Unexpected parameter: since\n",
      "Unexpected parameter: since\n",
      "Unexpected parameter: since\n",
      "Unexpected parameter: since\n",
      "Unexpected parameter: since\n",
      "Unexpected parameter: since\n",
      "Unexpected parameter: since\n",
      "Unexpected parameter: since\n",
      "Unexpected parameter: since\n",
      "Unexpected parameter: since\n",
      "Unexpected parameter: since\n",
      "Unexpected parameter: since\n",
      "Unexpected parameter: since\n",
      "Unexpected parameter: since\n",
      "Unexpected parameter: since\n",
      "Unexpected parameter: since\n",
      "Unexpected parameter: since\n",
      "Unexpected parameter: since\n",
      "Unexpected parameter: since\n",
      "Unexpected parameter: since\n",
      "Unexpected parameter: since\n",
      "Unexpected parameter: since\n",
      "Unexpected parameter: since\n",
      "Unexpected parameter: since\n",
      "Unexpected parameter: since\n",
      "Unexpected parameter: since\n",
      "Unexpected parameter: since\n",
      "Unexpected parameter: since\n",
      "Unexpected parameter: since\n",
      "Unexpected parameter: since\n",
      "Unexpected parameter: since\n",
      "Unexpected parameter: since\n",
      "Unexpected parameter: since\n",
      "Unexpected parameter: since\n",
      "Unexpected parameter: since\n",
      "Unexpected parameter: since\n",
      "Unexpected parameter: since\n",
      "Unexpected parameter: since\n",
      "Unexpected parameter: since\n",
      "Unexpected parameter: since\n",
      "Unexpected parameter: since\n",
      "Unexpected parameter: since\n",
      "Unexpected parameter: since\n",
      "Unexpected parameter: since\n",
      "Unexpected parameter: since\n",
      "Unexpected parameter: since\n",
      "Unexpected parameter: since\n",
      "Unexpected parameter: since\n",
      "Unexpected parameter: since\n",
      "Unexpected parameter: since\n",
      "Unexpected parameter: since\n",
      "Unexpected parameter: since\n",
      "Unexpected parameter: since\n",
      "Unexpected parameter: since\n",
      "Unexpected parameter: since\n",
      "Unexpected parameter: since\n",
      "Unexpected parameter: since\n",
      "Unexpected parameter: since\n",
      "Unexpected parameter: since\n",
      "Unexpected parameter: since\n",
      "Unexpected parameter: since\n",
      "Unexpected parameter: since\n",
      "Unexpected parameter: since\n",
      "Unexpected parameter: since\n",
      "Unexpected parameter: since\n",
      "Unexpected parameter: since\n",
      "Unexpected parameter: since\n",
      "Unexpected parameter: since\n",
      "Unexpected parameter: since\n",
      "Unexpected parameter: since\n",
      "Unexpected parameter: since\n",
      "Unexpected parameter: since\n",
      "Unexpected parameter: since\n",
      "Unexpected parameter: since\n",
      "Unexpected parameter: since\n",
      "Unexpected parameter: since\n",
      "Unexpected parameter: since\n",
      "Unexpected parameter: since\n",
      "Unexpected parameter: since\n",
      "Unexpected parameter: since\n",
      "Unexpected parameter: since\n",
      "Unexpected parameter: since\n",
      "Unexpected parameter: since\n",
      "Unexpected parameter: since\n",
      "Unexpected parameter: since\n",
      "Unexpected parameter: since\n",
      "Unexpected parameter: since\n",
      "Unexpected parameter: since\n",
      "Unexpected parameter: since\n",
      "Unexpected parameter: since\n",
      "Unexpected parameter: since\n",
      "Unexpected parameter: since\n"
     ]
    },
    {
     "name": "stdout",
     "output_type": "stream",
     "text": [
      "Read in 2000 New Tweets.\n"
     ]
    }
   ],
   "source": [
    "tweets_f = glob.glob(path + '\\\\SentimentHW1\\\\tweets3.csv')\n",
    "\n",
    "if len(tweets_f) == 0:\n",
    "    \n",
    "    f_twitter_cred = open('twitter.json')\n",
    "    twitter_cred = json.load(f_twitter_cred)\n",
    "\n",
    "    auth = tweepy.OAuthHandler(twitter_cred['api_key'], twitter_cred['api_secret_key'])\n",
    "    auth.set_access_token(twitter_cred['access_token'], twitter_cred['access_token_secret'])\n",
    "\n",
    "    api = tweepy.API(auth)\n",
    "\n",
    "    max_tweets = 2000\n",
    "    since_time = np.datetime64('today') - np.timedelta64(30, 'D')\n",
    "    \n",
    "    warnings.filterwarnings(\"ignore\")\n",
    "    \n",
    "    searched_tweets = tweepy.Cursor(api.search_tweets, q='%AI%', lang=\"en\", since=since_time, include_entities=False).items(max_tweets)\n",
    "\n",
    "    tweets = []\n",
    "    for tweet in searched_tweets:\n",
    "        tweets.append(tweet.text)\n",
    "    \n",
    "    df = pd.DataFrame(tweets, columns=['tweet']) # Convert to Data Frame\n",
    "    df.to_csv(path + '\\\\SentimentHW1\\\\tweets.csv', index=False) # Save to CSV File\n",
    "    \n",
    "    print('Read in {} New Tweets.'.format(len(tweets)))\n",
    "    \n",
    "else:\n",
    "    \n",
    "    df = pd.read_csv(tweets_f[0]) # Read In Existing File\n",
    "    \n",
    "    print('Read in {} Existing Tweets.'.format(len(df)))"
   ]
  },
  {
   "cell_type": "markdown",
   "id": "0d71ec17-283f-4689-b01a-78db91476f8f",
   "metadata": {},
   "source": [
    "### Character and Word Count per Tweet "
   ]
  },
  {
   "cell_type": "markdown",
   "id": "169f9389-0917-460a-8dfd-a352a165704c",
   "metadata": {},
   "source": [
    "The tweets were analyzed by checked for the number of characters and words per tweet. This is done to prevent tweets that only contain the word AI or very minimal characters that are not able to be checked for polarity. As seen below, the character count and word count are able to help us pick a limit as to which tweets should be excluded. An appropriate limit can be set by excluding tweets with less than 25 characters and less than 5 words."
   ]
  },
  {
   "cell_type": "code",
   "execution_count": 49,
   "id": "bfa842af-e4f2-4d30-a9e4-be0ad1467f33",
   "metadata": {},
   "outputs": [
    {
     "data": {
      "text/html": [
       "<pre>✔️ 0 ns (2021-10-15T13:43:49/2021-10-15T13:43:49)</pre>"
      ],
      "text/plain": [
       "<IPython.core.display.HTML object>"
      ]
     },
     "metadata": {},
     "output_type": "display_data"
    }
   ],
   "source": [
    "df['char_count'] = df['tweet'].apply(len)\n",
    "df['word_count']  = df['tweet'].str.split(' ').apply(len)"
   ]
  },
  {
   "cell_type": "code",
   "execution_count": 55,
   "id": "daba44dd-d89e-4cf4-9cfa-c58b47bec229",
   "metadata": {},
   "outputs": [
    {
     "data": {
      "text/html": [
       "<pre>✔️ 0 ns (2021-10-15T13:49:26/2021-10-15T13:49:26)</pre>"
      ],
      "text/plain": [
       "<IPython.core.display.HTML object>"
      ]
     },
     "metadata": {},
     "output_type": "display_data"
    }
   ],
   "source": [
    "char_min = 25\n",
    "word_min = 5"
   ]
  },
  {
   "cell_type": "code",
   "execution_count": 56,
   "id": "95cc347e-8301-49db-8684-8588e5c2828a",
   "metadata": {},
   "outputs": [
    {
     "data": {
      "text/html": [
       "<pre>✔️ 156 ms (2021-10-15T13:49:36/2021-10-15T13:49:37)</pre>"
      ],
      "text/plain": [
       "<IPython.core.display.HTML object>"
      ]
     },
     "metadata": {},
     "output_type": "display_data"
    },
    {
     "data": {
      "text/plain": [
       "Text(0.5, 1.0, 'Word Count per Tweet')"
      ]
     },
     "execution_count": 56,
     "metadata": {},
     "output_type": "execute_result"
    },
    {
     "data": {
      "image/png": "[encoded data removed]",
      "text/plain": [
       "<Figure size 1080x360 with 2 Axes>"
      ]
     },
     "metadata": {
      "needs_background": "light"
     },
     "output_type": "display_data"
    }
   ],
   "source": [
    "plt.figure(figsize=(15, 5))\n",
    "plt.subplot(121)\n",
    "ax = sns.kdeplot(data=df, x='char_count')\n",
    "ax.plot([char_min, char_min], [0, .04], color='red')\n",
    "plt.title('Character Count per Tweet')\n",
    "plt.subplot(122)\n",
    "ax = sns.kdeplot(data=df, x='word_count')\n",
    "ax.plot([word_min, word_min], [0, .04], color='red')\n",
    "plt.title('Word Count per Tweet')"
   ]
  },
  {
   "cell_type": "code",
   "execution_count": 57,
   "id": "f89ab0fe-26f8-4051-93b8-9123da8b1a33",
   "metadata": {},
   "outputs": [
    {
     "data": {
      "text/html": [
       "<pre>✔️ 0 ns (2021-10-15T13:54:47/2021-10-15T13:54:47)</pre>"
      ],
      "text/plain": [
       "<IPython.core.display.HTML object>"
      ]
     },
     "metadata": {},
     "output_type": "display_data"
    },
    {
     "name": "stdout",
     "output_type": "stream",
     "text": [
      "Number of Tweets left:  1933\n"
     ]
    }
   ],
   "source": [
    "df = df.loc[((df['word_count'] > word_min) & (df['char_count'] > char_min))].reset_index(drop=True)\n",
    "print('Number of Tweets left: ', len(df))"
   ]
  },
  {
   "cell_type": "markdown",
   "id": "947222ea-db2d-4375-872d-9362e733691e",
   "metadata": {},
   "source": [
    "### Sentiment Analysis"
   ]
  },
  {
   "cell_type": "markdown",
   "id": "efacf4b4-9db9-4409-b4e4-7b14bda86463",
   "metadata": {},
   "source": [
    "The Sentiment Analysis was performed on the remaining 1933 tweets after the minimum character and word count was taken into account. Due to the nature of the tweets, the Default Sentiment Analysis tool is not compatible with the problem statement as it can only be used in a supervised manner. In other words, it needs a label in order to help train and model that can be used to predict the sentiment of new tweets. On the other hand, VADER is an unsupervised algorithm that allows us to extract a polarity score from each tweet using a pre-trained model."
   ]
  },
  {
   "cell_type": "markdown",
   "id": "52095e78-24b2-40e8-ae47-8e126febd973",
   "metadata": {},
   "source": [
    "#### Vader"
   ]
  },
  {
   "cell_type": "code",
   "execution_count": 75,
   "id": "602929f2-a2e6-4f85-8d08-32bd97fdba62",
   "metadata": {},
   "outputs": [
    {
     "data": {
      "text/html": [
       "<pre>✔️ 375 ms (2021-10-15T14:11:33/2021-10-15T14:11:33)</pre>"
      ],
      "text/plain": [
       "<IPython.core.display.HTML object>"
      ]
     },
     "metadata": {},
     "output_type": "display_data"
    },
    {
     "data": {
      "text/plain": [
       "neu    1915\n",
       "pos      14\n",
       "neg       4\n",
       "Name: vader_res, dtype: int64"
      ]
     },
     "execution_count": 75,
     "metadata": {},
     "output_type": "execute_result"
    }
   ],
   "source": [
    "from nltk.sentiment.vader import SentimentIntensityAnalyzer\n",
    "\n",
    "sid = SentimentIntensityAnalyzer()\n",
    "vader_res_pos = []\n",
    "vader_res_neg = []\n",
    "vader_res_neu = []\n",
    "vader_res_comp = []\n",
    "for sentence in df['tweet']:\n",
    "    ss = sid.polarity_scores(sentence)\n",
    "    vader_res_neg.append(ss['neg'])\n",
    "    vader_res_pos.append(ss['pos'])\n",
    "    vader_res_neu.append(ss['neu'])\n",
    "    vader_res_comp.append(ss['compound'])\n",
    "    \n",
    "df['vader_neg'] = vader_res_neg\n",
    "df['vader_pos'] = vader_res_pos\n",
    "df['vader_neu'] = vader_res_neu\n",
    "df['vader_comp'] = vader_res_comp\n",
    "df['vader_res'] = ['pos' if 0 == np.argmax([x,y,z]) else 'neg' if 1 == np.argmax([x,y,z]) else 'neu' for x,y,z in df[['vader_pos', 'vader_neg', 'vader_neu']].values]"
   ]
  },
  {
   "cell_type": "markdown",
   "id": "8c203f63-7af2-4e5c-b7c7-637f5b80c2cb",
   "metadata": {
    "tags": []
   },
   "source": [
    "#### NLTK Default"
   ]
  },
  {
   "cell_type": "markdown",
   "id": "81b65edb-cd18-46f4-b8ba-3a50b6a826dd",
   "metadata": {},
   "source": [
    "In order to still check the ease of use of the NLTK Default Sentiment Analysis tool, the label provided by VADER was used to label the tweets. It is important to note that this was done merely as an exercise to understand the NLTK's default Sentiment Analysis tool way of working with labeled data. In practice, there should have been a pre-labeled dataset revised and agreed upon used to train the model and test on the new tweets to see how they feel about AI.\n",
    "\n",
    "Since VADER returns a compound value from -1 to 1 where 1 represents a positive tweet and -1 represents a very negative tweet, the tweets were labeled using a limit of 0 where -1 to 0 means it is a negative tweet while 0 to 1 means it is a positive tweet. If the tweets were to be broken up into negative, neutral and positive, the dataset would mostly consist of neutral tweets, so a neutral label was excluded. Once this was done, the 1933 tweets were broken up into 1654 negative tweets and 279 positive tweets. The tweets were then separated into a training and testing set in order to train the Supervised Sentiment Analysis model and to later test the accuracy of the model on data it has not encountered previously. Both the training and testing data is then tokenized and formatted into a NLTK-friendly format to input into a Naive Bayes Classifier. "
   ]
  },
  {
   "cell_type": "markdown",
   "id": "8530b480-30d2-4c27-8734-0aaf2b4120e8",
   "metadata": {
    "tags": []
   },
   "source": [
    "##### Labeling Tweets"
   ]
  },
  {
   "cell_type": "code",
   "execution_count": 100,
   "id": "521428d3-7c04-4a0a-9530-49247c02cc98",
   "metadata": {},
   "outputs": [
    {
     "data": {
      "text/html": [
       "<pre>✔️ 0 ns (2021-10-15T14:29:55/2021-10-15T14:29:55)</pre>"
      ],
      "text/plain": [
       "<IPython.core.display.HTML object>"
      ]
     },
     "metadata": {},
     "output_type": "display_data"
    },
    {
     "data": {
      "text/plain": [
       "pos    1654\n",
       "neg     279\n",
       "Name: vader_label, dtype: int64"
      ]
     },
     "execution_count": 100,
     "metadata": {},
     "output_type": "execute_result"
    }
   ],
   "source": [
    "df['vader_label'] = ['pos' if x>=0 else 'neg'for x in df['vader_comp'].values]\n",
    "df['vader_label'].value_counts()"
   ]
  },
  {
   "cell_type": "markdown",
   "id": "1f004061-c9c0-42ce-be55-c906d9d4303b",
   "metadata": {
    "tags": []
   },
   "source": [
    "##### Tokenization"
   ]
  },
  {
   "cell_type": "code",
   "execution_count": 101,
   "id": "0486ffe6-1d8c-49c8-b573-ca195f7e37b5",
   "metadata": {},
   "outputs": [
    {
     "data": {
      "text/html": [
       "<pre>✔️ 140 ms (2021-10-15T14:30:02/2021-10-15T14:30:02)</pre>"
      ],
      "text/plain": [
       "<IPython.core.display.HTML object>"
      ]
     },
     "metadata": {},
     "output_type": "display_data"
    },
    {
     "data": {
      "text/plain": [
       "1256    [rt, @gupshup, :, drive, user, engagement, wit...\n",
       "288     [rt, @gp_pulipaka, :, getting, back, to, gym, ...\n",
       "1610    [rt, @plasmaposting, :, man, makes, some, beau...\n",
       "256              [@stcardigan, vem, ai, 20m, de, streams]\n",
       "795     [rt, @milocamj, :, china, beats, us, in, artif...\n",
       "5       [rt, @debashis_dutta, :, 🙄, #digital, humans, ...\n",
       "311     [rt, @ipfconline1, :, what's, new, in, #python...\n",
       "1883    [rt, @2018iptv, :, top, 18, low-code, and, no-...\n",
       "702     [rt, @stanleyepstein, :, “, top, reads, of, th...\n",
       "189     [@cryptojaipur, @qntmami, @vectorspace_ai, @co...\n",
       "Name: tweet_tokenized, dtype: object"
      ]
     },
     "execution_count": 101,
     "metadata": {},
     "output_type": "execute_result"
    }
   ],
   "source": [
    "from nltk.tokenize import TweetTokenizer\n",
    "tt = TweetTokenizer()\n",
    "df['tweet_tokenized'] = [tt.tokenize(tweet.lower()) for tweet in df.tweet.values]\n",
    "df['tweet_tokenized'].sample(10)"
   ]
  },
  {
   "cell_type": "markdown",
   "id": "ae0bd797-8118-4cc0-a0c4-a0a9397a5d64",
   "metadata": {
    "tags": []
   },
   "source": [
    "##### Test Train Split"
   ]
  },
  {
   "cell_type": "code",
   "execution_count": 102,
   "id": "b4f68d06-232f-4f53-b80d-e4683c307415",
   "metadata": {},
   "outputs": [
    {
     "data": {
      "text/html": [
       "<pre>✔️ 15 ms (2021-10-15T14:30:04/2021-10-15T14:30:04)</pre>"
      ],
      "text/plain": [
       "<IPython.core.display.HTML object>"
      ]
     },
     "metadata": {},
     "output_type": "display_data"
    },
    {
     "data": {
      "text/plain": [
       "pos    1323\n",
       "neg     223\n",
       "Name: vader_label, dtype: int64"
      ]
     },
     "execution_count": 102,
     "metadata": {},
     "output_type": "execute_result"
    }
   ],
   "source": [
    "train = df.groupby(['vader_label']).sample(frac=.8)\n",
    "trainL = [(x,y) for x,y in train[['tweet_tokenized', 'vader_label']].values]\n",
    "train['vader_label'].value_counts()"
   ]
  },
  {
   "cell_type": "code",
   "execution_count": 103,
   "id": "94666e31-3ddc-406c-a07d-c407ca5c0505",
   "metadata": {},
   "outputs": [
    {
     "data": {
      "text/html": [
       "<pre>✔️ 15 ms (2021-10-15T14:30:05/2021-10-15T14:30:05)</pre>"
      ],
      "text/plain": [
       "<IPython.core.display.HTML object>"
      ]
     },
     "metadata": {},
     "output_type": "display_data"
    },
    {
     "data": {
      "text/plain": [
       "pos    331\n",
       "neg     56\n",
       "Name: vader_label, dtype: int64"
      ]
     },
     "execution_count": 103,
     "metadata": {},
     "output_type": "execute_result"
    }
   ],
   "source": [
    "test = df.loc[~df.index.isin(train.index.values)]\n",
    "testL = [(x,y) for x,y in test[['tweet_tokenized', 'vader_label']].values]\n",
    "test['vader_label'].value_counts()"
   ]
  },
  {
   "cell_type": "markdown",
   "id": "cbb8bbbb-cc07-4e56-b8b1-413b745635e6",
   "metadata": {
    "tags": []
   },
   "source": [
    "##### Sentiment Features"
   ]
  },
  {
   "cell_type": "code",
   "execution_count": 104,
   "id": "114a689c-b304-4379-98d1-bccd8f084313",
   "metadata": {},
   "outputs": [
    {
     "data": {
      "text/html": [
       "<pre>✔️ 47 ms (2021-10-15T14:30:06/2021-10-15T14:30:06)</pre>"
      ],
      "text/plain": [
       "<IPython.core.display.HTML object>"
      ]
     },
     "metadata": {},
     "output_type": "display_data"
    }
   ],
   "source": [
    "from nltk.sentiment import SentimentAnalyzer\n",
    "from nltk.sentiment.util import *\n",
    "\n",
    "sentim_analyzer = SentimentAnalyzer()\n",
    "all_words_neg = sentim_analyzer.all_words([mark_negation(doc) for doc in trainL])\n",
    "\n",
    "unigram_feats = sentim_analyzer.unigram_word_feats(all_words_neg, min_freq=4)\n",
    "sentim_analyzer.add_feat_extractor(extract_unigram_feats, unigrams=unigram_feats)\n",
    "\n",
    "training_set = sentim_analyzer.apply_features(trainL)\n",
    "testing_set = sentim_analyzer.apply_features(testL, labeled=None)"
   ]
  },
  {
   "cell_type": "markdown",
   "id": "13341a8e-e03d-47e1-93b8-7345f490bcf6",
   "metadata": {},
   "source": [
    "##### Training of Naive Bayes Classifier"
   ]
  },
  {
   "cell_type": "code",
   "execution_count": 105,
   "id": "2af11f31-4a38-493d-86fa-ff75191ca652",
   "metadata": {},
   "outputs": [
    {
     "data": {
      "text/html": [
       "<pre>✔️ 1.86 s (2021-10-15T14:30:07/2021-10-15T14:30:09)</pre>"
      ],
      "text/plain": [
       "<IPython.core.display.HTML object>"
      ]
     },
     "metadata": {},
     "output_type": "display_data"
    },
    {
     "name": "stdout",
     "output_type": "stream",
     "text": [
      "Training classifier\n"
     ]
    }
   ],
   "source": [
    "from nltk.classify import NaiveBayesClassifier\n",
    "\n",
    "trainer = NaiveBayesClassifier.train\n",
    "classifier = sentim_analyzer.train(trainer, training_set)"
   ]
  },
  {
   "cell_type": "markdown",
   "id": "891931f7-ce72-44fc-a136-4dac333a9cd4",
   "metadata": {},
   "source": [
    "## Results"
   ]
  },
  {
   "cell_type": "markdown",
   "id": "eb6f9f9a-2cfb-4562-95fe-3bd5d5f353b6",
   "metadata": {},
   "source": [
    "### VADER Results"
   ]
  },
  {
   "cell_type": "markdown",
   "id": "07cace0d-766f-4fca-b12c-498be974e678",
   "metadata": {},
   "source": [
    "In order to interpret the results of the VADER Sentiment Analysis, the result of the model was plotted by its compound score. The distribution of the plot shows how most of the tweets are centered around 0 rather than any of the extreme polarity scores. This could mean that the tweets are merely stating facts rather than expressing an opinion on the subject. The quantiles of the compound score also return similar results where more than 25% of the tweets appear to have gotten a polarity compound score of 0 with the mean being 0.19. This means that most of the tweets were leaning closer to being positive, but the distribution still shows too many of them were still closer to being a neutral tweet rather than a polarized tweet."
   ]
  },
  {
   "cell_type": "code",
   "execution_count": 117,
   "id": "63611d94-6374-4266-b496-ed96961f898b",
   "metadata": {},
   "outputs": [
    {
     "data": {
      "text/html": [
       "<pre>✔️ 15 ms (2021-10-15T14:44:14/2021-10-15T14:44:14)</pre>"
      ],
      "text/plain": [
       "<IPython.core.display.HTML object>"
      ]
     },
     "metadata": {},
     "output_type": "display_data"
    },
    {
     "data": {
      "text/html": [
       "<div>\n",
       "<style scoped>\n",
       "    .dataframe tbody tr th:only-of-type {\n",
       "        vertical-align: middle;\n",
       "    }\n",
       "\n",
       "    .dataframe tbody tr th {\n",
       "        vertical-align: top;\n",
       "    }\n",
       "\n",
       "    .dataframe thead th {\n",
       "        text-align: right;\n",
       "    }\n",
       "</style>\n",
       "<table border=\"1\" class=\"dataframe\">\n",
       "  <thead>\n",
       "    <tr style=\"text-align: right;\">\n",
       "      <th></th>\n",
       "      <th>VADER_percent</th>\n",
       "      <th>VADER_count</th>\n",
       "    </tr>\n",
       "  </thead>\n",
       "  <tbody>\n",
       "    <tr>\n",
       "      <th>neu</th>\n",
       "      <td>0.990688</td>\n",
       "      <td>1915</td>\n",
       "    </tr>\n",
       "    <tr>\n",
       "      <th>pos</th>\n",
       "      <td>0.007243</td>\n",
       "      <td>14</td>\n",
       "    </tr>\n",
       "    <tr>\n",
       "      <th>neg</th>\n",
       "      <td>0.002069</td>\n",
       "      <td>4</td>\n",
       "    </tr>\n",
       "  </tbody>\n",
       "</table>\n",
       "</div>"
      ],
      "text/plain": [
       "     VADER_percent  VADER_count\n",
       "neu       0.990688         1915\n",
       "pos       0.007243           14\n",
       "neg       0.002069            4"
      ]
     },
     "execution_count": 117,
     "metadata": {},
     "output_type": "execute_result"
    }
   ],
   "source": [
    "vader_res = pd.concat([df['vader_res'].value_counts(normalize=True), df['vader_res'].value_counts()], axis=1)\n",
    "vader_res.columns = ['VADER_percent', 'VADER_count']\n",
    "vader_res"
   ]
  },
  {
   "cell_type": "code",
   "execution_count": 107,
   "id": "8b2cd891-ae94-40d5-bebf-e68ff465506f",
   "metadata": {},
   "outputs": [
    {
     "data": {
      "text/html": [
       "<pre>✔️ 0 ns (2021-10-15T14:33:19/2021-10-15T14:33:19)</pre>"
      ],
      "text/plain": [
       "<IPython.core.display.HTML object>"
      ]
     },
     "metadata": {},
     "output_type": "display_data"
    },
    {
     "data": {
      "text/html": [
       "<div>\n",
       "<style scoped>\n",
       "    .dataframe tbody tr th:only-of-type {\n",
       "        vertical-align: middle;\n",
       "    }\n",
       "\n",
       "    .dataframe tbody tr th {\n",
       "        vertical-align: top;\n",
       "    }\n",
       "\n",
       "    .dataframe thead th {\n",
       "        text-align: right;\n",
       "    }\n",
       "</style>\n",
       "<table border=\"1\" class=\"dataframe\">\n",
       "  <thead>\n",
       "    <tr style=\"text-align: right;\">\n",
       "      <th></th>\n",
       "      <th>vader_comp</th>\n",
       "    </tr>\n",
       "  </thead>\n",
       "  <tbody>\n",
       "    <tr>\n",
       "      <th>count</th>\n",
       "      <td>1933.000000</td>\n",
       "    </tr>\n",
       "    <tr>\n",
       "      <th>mean</th>\n",
       "      <td>0.188679</td>\n",
       "    </tr>\n",
       "    <tr>\n",
       "      <th>std</th>\n",
       "      <td>0.382682</td>\n",
       "    </tr>\n",
       "    <tr>\n",
       "      <th>min</th>\n",
       "      <td>-0.943800</td>\n",
       "    </tr>\n",
       "    <tr>\n",
       "      <th>25%</th>\n",
       "      <td>0.000000</td>\n",
       "    </tr>\n",
       "    <tr>\n",
       "      <th>50%</th>\n",
       "      <td>0.000000</td>\n",
       "    </tr>\n",
       "    <tr>\n",
       "      <th>75%</th>\n",
       "      <td>0.484000</td>\n",
       "    </tr>\n",
       "    <tr>\n",
       "      <th>max</th>\n",
       "      <td>0.960100</td>\n",
       "    </tr>\n",
       "  </tbody>\n",
       "</table>\n",
       "</div>"
      ],
      "text/plain": [
       "        vader_comp\n",
       "count  1933.000000\n",
       "mean      0.188679\n",
       "std       0.382682\n",
       "min      -0.943800\n",
       "25%       0.000000\n",
       "50%       0.000000\n",
       "75%       0.484000\n",
       "max       0.960100"
      ]
     },
     "execution_count": 107,
     "metadata": {},
     "output_type": "execute_result"
    }
   ],
   "source": [
    "df[['vader_comp']].describe()"
   ]
  },
  {
   "cell_type": "code",
   "execution_count": 109,
   "id": "6ed8540a-cc58-402e-a29c-851b71e19617",
   "metadata": {},
   "outputs": [
    {
     "data": {
      "text/html": [
       "<pre>✔️ 406 ms (2021-10-15T14:33:44/2021-10-15T14:33:44)</pre>"
      ],
      "text/plain": [
       "<IPython.core.display.HTML object>"
      ]
     },
     "metadata": {},
     "output_type": "display_data"
    },
    {
     "data": {
      "text/plain": [
       "<AxesSubplot:xlabel='vader_comp', ylabel='Density'>"
      ]
     },
     "execution_count": 109,
     "metadata": {},
     "output_type": "execute_result"
    },
    {
     "data": {
      "image/png": "[encoded data removed]",
      "text/plain": [
       "<Figure size 720x360 with 1 Axes>"
      ]
     },
     "metadata": {
      "needs_background": "light"
     },
     "output_type": "display_data"
    }
   ],
   "source": [
    "plt.figure(figsize=(10,5))\n",
    "sns.kdeplot(data=df, x='vader_comp', hue='vader_label')"
   ]
  },
  {
   "cell_type": "markdown",
   "id": "d181447c-214a-4244-8861-e84ea1fc9637",
   "metadata": {},
   "source": [
    "### NLTK Default"
   ]
  },
  {
   "cell_type": "markdown",
   "id": "404a8647-8ef6-43a0-a274-3b5a151c1a91",
   "metadata": {},
   "source": [
    "NLTK's Default Sentiment Analysis tool resulted in a high accuracy of about 74%, but a low precision score of 29% for the negatively labeled tweets. Even if the use of this tool was not to extract the polarity of the tweets, the results also show how separable the tweets are based on the polarity predicted by VADER. This means that if the polarity predicted by VADER is correct, then the NLTK Default Sentiment Analysis tool will be able to separate positive and negative tweets well. In reality, the results show promise since the positive tweets are being correctly labeled in the test set with a precision score of 90%, but it is more likely that the model is biased towards positive tweets since there is more of them. This is also supported by the training set results since it shows a similar story as the testing results where the positive labeled tweets appear to have a better predictability compared to negative ones. Consequently, it indicates that the high quantity of neutral or non-polarized tweets prevents the model to correctly predict negative tweets about AI. "
   ]
  },
  {
   "cell_type": "code",
   "execution_count": 123,
   "id": "93ef4754-25b3-4f01-89a6-8946acebcbc2",
   "metadata": {
    "tags": []
   },
   "outputs": [
    {
     "data": {
      "text/html": [
       "<pre>✔️ 9.94 s (2021-10-15T14:59:36/2021-10-15T14:59:46)</pre>"
      ],
      "text/plain": [
       "<IPython.core.display.HTML object>"
      ]
     },
     "metadata": {},
     "output_type": "display_data"
    },
    {
     "name": "stdout",
     "output_type": "stream",
     "text": [
      "Evaluating NaiveBayesClassifier results...\n",
      "Evaluating NaiveBayesClassifier results...\n"
     ]
    },
    {
     "data": {
      "text/html": [
       "<div>\n",
       "<style scoped>\n",
       "    .dataframe tbody tr th:only-of-type {\n",
       "        vertical-align: middle;\n",
       "    }\n",
       "\n",
       "    .dataframe tbody tr th {\n",
       "        vertical-align: top;\n",
       "    }\n",
       "\n",
       "    .dataframe thead th {\n",
       "        text-align: right;\n",
       "    }\n",
       "</style>\n",
       "<table border=\"1\" class=\"dataframe\">\n",
       "  <thead>\n",
       "    <tr style=\"text-align: right;\">\n",
       "      <th></th>\n",
       "      <th>train</th>\n",
       "      <th>test</th>\n",
       "    </tr>\n",
       "  </thead>\n",
       "  <tbody>\n",
       "    <tr>\n",
       "      <th>Accuracy</th>\n",
       "      <td>0.847348</td>\n",
       "      <td>0.746770</td>\n",
       "    </tr>\n",
       "    <tr>\n",
       "      <th>F-measure [neg]</th>\n",
       "      <td>0.613115</td>\n",
       "      <td>0.371795</td>\n",
       "    </tr>\n",
       "    <tr>\n",
       "      <th>F-measure [pos]</th>\n",
       "      <td>0.904915</td>\n",
       "      <td>0.841424</td>\n",
       "    </tr>\n",
       "    <tr>\n",
       "      <th>Precision [neg]</th>\n",
       "      <td>0.483204</td>\n",
       "      <td>0.290000</td>\n",
       "    </tr>\n",
       "    <tr>\n",
       "      <th>Precision [pos]</th>\n",
       "      <td>0.968939</td>\n",
       "      <td>0.905923</td>\n",
       "    </tr>\n",
       "    <tr>\n",
       "      <th>Recall [neg]</th>\n",
       "      <td>0.838565</td>\n",
       "      <td>0.517857</td>\n",
       "    </tr>\n",
       "    <tr>\n",
       "      <th>Recall [pos]</th>\n",
       "      <td>0.848828</td>\n",
       "      <td>0.785498</td>\n",
       "    </tr>\n",
       "  </tbody>\n",
       "</table>\n",
       "</div>"
      ],
      "text/plain": [
       "                    train      test\n",
       "Accuracy         0.847348  0.746770\n",
       "F-measure [neg]  0.613115  0.371795\n",
       "F-measure [pos]  0.904915  0.841424\n",
       "Precision [neg]  0.483204  0.290000\n",
       "Precision [pos]  0.968939  0.905923\n",
       "Recall [neg]     0.838565  0.517857\n",
       "Recall [pos]     0.848828  0.785498"
      ]
     },
     "execution_count": 123,
     "metadata": {},
     "output_type": "execute_result"
    }
   ],
   "source": [
    "nltk_res = pd.DataFrame([])\n",
    "\n",
    "for key,value in sorted(sentim_analyzer.evaluate(training_set).items()):\n",
    "    # print('{}: {}'.format(key, value))\n",
    "    nltk_res.loc[key, 'train'] = value\n",
    "for key,value in sorted(sentim_analyzer.evaluate(testing_set).items()):\n",
    "    # print('{}: {}'.format(key, value))\n",
    "    nltk_res.loc[key, 'test'] = value\n",
    "    \n",
    "nltk_res"
   ]
  },
  {
   "cell_type": "code",
   "execution_count": 119,
   "id": "1cd90321-3152-40a4-83b0-4c78a06b218f",
   "metadata": {},
   "outputs": [
    {
     "data": {
      "text/html": [
       "<pre>✔️ 890 ms (2021-10-15T14:45:01/2021-10-15T14:45:02)</pre>"
      ],
      "text/plain": [
       "<IPython.core.display.HTML object>"
      ]
     },
     "metadata": {},
     "output_type": "display_data"
    },
    {
     "data": {
      "text/plain": [
       "True     289\n",
       "False     98\n",
       "Name: nltk_default_correct, dtype: int64"
      ]
     },
     "execution_count": 119,
     "metadata": {},
     "output_type": "execute_result"
    }
   ],
   "source": [
    "# List of only feature dictionary from the featureset list of tuples \n",
    "feature_list = [f[0] for f in testing_set]\n",
    "\n",
    "# Looping over each to classify each review\n",
    "test.loc[test.index.values,'nltk_default_res'] = [classifier.classify(features) for features in feature_list]\n",
    "test.loc[test.index.values,'nltk_default_correct'] = test['nltk_default_res'] == test['vader_label']\n",
    "test['nltk_default_correct'].value_counts()"
   ]
  },
  {
   "cell_type": "code",
   "execution_count": 121,
   "id": "2206d15f-d71b-47d2-81fa-52b9f5c8c412",
   "metadata": {},
   "outputs": [
    {
     "data": {
      "text/html": [
       "<pre>✔️ 16 ms (2021-10-15T14:56:49/2021-10-15T14:56:49)</pre>"
      ],
      "text/plain": [
       "<IPython.core.display.HTML object>"
      ]
     },
     "metadata": {},
     "output_type": "display_data"
    },
    {
     "data": {
      "text/plain": [
       "array([[ 29,  27],\n",
       "       [ 71, 260]], dtype=int64)"
      ]
     },
     "execution_count": 121,
     "metadata": {},
     "output_type": "execute_result"
    }
   ],
   "source": [
    "from sklearn.metrics import confusion_matrix\n",
    "confusion_matrix(test['vader_label'], test['nltk_default_res'])"
   ]
  },
  {
   "cell_type": "markdown",
   "id": "49f7044f-8b9a-4b72-84ef-ed0fc48ea196",
   "metadata": {},
   "source": [
    "#### Incorrectly Labeled Tweets"
   ]
  },
  {
   "cell_type": "markdown",
   "id": "71f6e1b4-74ed-419c-863e-5a1f7a079afd",
   "metadata": {},
   "source": [
    "By taking a look at the mis-classified tweets in the testing set, there is a conflicting result where the compound scores reflect a normal distribution centered at 0 with equal tails on both sides. The most surprising aspect is that some of the extremely polar tweets are predicted incorrectly by NLTK's Default Sentiment Analyzer. The results are indicative that these tweets might have been incorrectly labeled by the VADER algorithm."
   ]
  },
  {
   "cell_type": "code",
   "execution_count": 124,
   "id": "595cd82e-2858-4e44-91c6-14acdd269818",
   "metadata": {},
   "outputs": [
    {
     "data": {
      "text/html": [
       "<pre>✔️ 0 ns (2021-10-15T15:04:54/2021-10-15T15:04:54)</pre>"
      ],
      "text/plain": [
       "<IPython.core.display.HTML object>"
      ]
     },
     "metadata": {},
     "output_type": "display_data"
    },
    {
     "data": {
      "text/plain": [
       "pos    71\n",
       "neg    27\n",
       "Name: vader_label, dtype: int64"
      ]
     },
     "execution_count": 124,
     "metadata": {},
     "output_type": "execute_result"
    }
   ],
   "source": [
    "test.loc[test['nltk_default_correct'] == False]['vader_label'].value_counts()"
   ]
  },
  {
   "cell_type": "code",
   "execution_count": 122,
   "id": "5e9ee07d-48b4-4d57-a473-c6d7207da623",
   "metadata": {},
   "outputs": [
    {
     "data": {
      "text/html": [
       "<pre>✔️ 63 ms (2021-10-15T14:58:06/2021-10-15T14:58:06)</pre>"
      ],
      "text/plain": [
       "<IPython.core.display.HTML object>"
      ]
     },
     "metadata": {},
     "output_type": "display_data"
    },
    {
     "data": {
      "text/plain": [
       "<AxesSubplot:xlabel='vader_comp', ylabel='Density'>"
      ]
     },
     "execution_count": 122,
     "metadata": {},
     "output_type": "execute_result"
    },
    {
     "data": {
      "image/png": "[encoded data removed]",
      "text/plain": [
       "<Figure size 432x288 with 1 Axes>"
      ]
     },
     "metadata": {
      "needs_background": "light"
     },
     "output_type": "display_data"
    }
   ],
   "source": [
    "plt.figure()\n",
    "sns.kdeplot(data=test.loc[test['nltk_default_correct'] == False], x='vader_comp')"
   ]
  },
  {
   "cell_type": "code",
   "execution_count": 120,
   "id": "193e9446-19a0-4f92-8ec7-3d6195e87d8b",
   "metadata": {},
   "outputs": [
    {
     "data": {
      "text/html": [
       "<pre>✔️ 0 ns (2021-10-15T14:45:02/2021-10-15T14:45:02)</pre>"
      ],
      "text/plain": [
       "<IPython.core.display.HTML object>"
      ]
     },
     "metadata": {},
     "output_type": "display_data"
    },
    {
     "data": {
      "text/html": [
       "<div>\n",
       "<style scoped>\n",
       "    .dataframe tbody tr th:only-of-type {\n",
       "        vertical-align: middle;\n",
       "    }\n",
       "\n",
       "    .dataframe tbody tr th {\n",
       "        vertical-align: top;\n",
       "    }\n",
       "\n",
       "    .dataframe thead th {\n",
       "        text-align: right;\n",
       "    }\n",
       "</style>\n",
       "<table border=\"1\" class=\"dataframe\">\n",
       "  <thead>\n",
       "    <tr style=\"text-align: right;\">\n",
       "      <th></th>\n",
       "      <th>tweet</th>\n",
       "      <th>vader_comp</th>\n",
       "      <th>vader_label</th>\n",
       "      <th>nltk_default_res</th>\n",
       "    </tr>\n",
       "  </thead>\n",
       "  <tbody>\n",
       "    <tr>\n",
       "      <th>51</th>\n",
       "      <td>@leannewhelan8 Stats are rubbish imo lol, but ...</td>\n",
       "      <td>0.2263</td>\n",
       "      <td>pos</td>\n",
       "      <td>neg</td>\n",
       "    </tr>\n",
       "    <tr>\n",
       "      <th>71</th>\n",
       "      <td>Starting to remember now... How did we as a sp...</td>\n",
       "      <td>0.0000</td>\n",
       "      <td>pos</td>\n",
       "      <td>neg</td>\n",
       "    </tr>\n",
       "    <tr>\n",
       "      <th>75</th>\n",
       "      <td>@strongforu @DanPriceSeattle Robots still requ...</td>\n",
       "      <td>0.0000</td>\n",
       "      <td>pos</td>\n",
       "      <td>neg</td>\n",
       "    </tr>\n",
       "    <tr>\n",
       "      <th>76</th>\n",
       "      <td>AI Content Generator With A Lifetime Deal (LTD...</td>\n",
       "      <td>0.0000</td>\n",
       "      <td>pos</td>\n",
       "      <td>neg</td>\n",
       "    </tr>\n",
       "    <tr>\n",
       "      <th>95</th>\n",
       "      <td>@ai_xyenn @neuroticphys All of their voices th...</td>\n",
       "      <td>0.5719</td>\n",
       "      <td>pos</td>\n",
       "      <td>neg</td>\n",
       "    </tr>\n",
       "    <tr>\n",
       "      <th>127</th>\n",
       "      <td>He's being, The Gringo, USA is in an AI Movie ...</td>\n",
       "      <td>-0.5994</td>\n",
       "      <td>neg</td>\n",
       "      <td>pos</td>\n",
       "    </tr>\n",
       "    <tr>\n",
       "      <th>128</th>\n",
       "      <td>@LowlyLyricist @pixelvault_ Burned my only com...</td>\n",
       "      <td>0.0000</td>\n",
       "      <td>pos</td>\n",
       "      <td>neg</td>\n",
       "    </tr>\n",
       "    <tr>\n",
       "      <th>143</th>\n",
       "      <td>Creations reflect the heart of the creator ㅡ A...</td>\n",
       "      <td>0.3818</td>\n",
       "      <td>pos</td>\n",
       "      <td>neg</td>\n",
       "    </tr>\n",
       "    <tr>\n",
       "      <th>161</th>\n",
       "      <td>@keenanrox @_Nkazi_mulo The replies to that tw...</td>\n",
       "      <td>-0.1779</td>\n",
       "      <td>neg</td>\n",
       "      <td>pos</td>\n",
       "    </tr>\n",
       "    <tr>\n",
       "      <th>163</th>\n",
       "      <td>@mizar_ai From my analysis and the project roa...</td>\n",
       "      <td>0.4019</td>\n",
       "      <td>pos</td>\n",
       "      <td>neg</td>\n",
       "    </tr>\n",
       "  </tbody>\n",
       "</table>\n",
       "</div>"
      ],
      "text/plain": [
       "                                                 tweet  vader_comp  \\\n",
       "51   @leannewhelan8 Stats are rubbish imo lol, but ...      0.2263   \n",
       "71   Starting to remember now... How did we as a sp...      0.0000   \n",
       "75   @strongforu @DanPriceSeattle Robots still requ...      0.0000   \n",
       "76   AI Content Generator With A Lifetime Deal (LTD...      0.0000   \n",
       "95   @ai_xyenn @neuroticphys All of their voices th...      0.5719   \n",
       "127  He's being, The Gringo, USA is in an AI Movie ...     -0.5994   \n",
       "128  @LowlyLyricist @pixelvault_ Burned my only com...      0.0000   \n",
       "143  Creations reflect the heart of the creator ㅡ A...      0.3818   \n",
       "161  @keenanrox @_Nkazi_mulo The replies to that tw...     -0.1779   \n",
       "163  @mizar_ai From my analysis and the project roa...      0.4019   \n",
       "\n",
       "    vader_label nltk_default_res  \n",
       "51          pos              neg  \n",
       "71          pos              neg  \n",
       "75          pos              neg  \n",
       "76          pos              neg  \n",
       "95          pos              neg  \n",
       "127         neg              pos  \n",
       "128         pos              neg  \n",
       "143         pos              neg  \n",
       "161         neg              pos  \n",
       "163         pos              neg  "
      ]
     },
     "execution_count": 120,
     "metadata": {},
     "output_type": "execute_result"
    }
   ],
   "source": [
    "test.loc[test['nltk_default_correct'] == False][['tweet', 'vader_comp', 'vader_label', 'nltk_default_res']].head(10)"
   ]
  },
  {
   "cell_type": "markdown",
   "id": "76371ac5-739b-4628-9d5b-7f7615612462",
   "metadata": {},
   "source": [
    "## Conclusions"
   ]
  },
  {
   "cell_type": "markdown",
   "id": "1968c930-43c3-4ef8-bcc8-2b2ce414f62a",
   "metadata": {},
   "source": [
    "While VADER is more compatible with a tweet Sentiment Analysis, the tool only returned 18 out of 1933 tweets to be polarizing enough. This means that almost all of the tweets use AI in a form that does not provide an opinion on the subject. It might be that 1915 of the tweets are merely stating a fact. Then due to the plug-and-chug nature of VADER, the results are to be trusted without any optimization done on the model. This makes it difficult to tweak the model into providing better results based on the dataset available. In other words, if the subject in question was AI, then the model will not take that into consideration before making a decision, so words related to AI might not be highlighted as more important than others.\n",
    "\n",
    "The NLTK's Sentiment Analyzer turned out to be less compatible with the problem statement at hand, but it turned useful when evaluating the VADER polarization results. The pre-processing of the tweets prior to model fitting shows a higher adaptability and modularity which makes it better if there was a need to tweak to optimize the model. In contrast, VADER is simpler for beginners to use since the pre-processing is done for them. Nonetheless, a Data Scientist prefers Supervised Models when there is a choice against Unsupervised Models; therefore, NLTK's default is more likely to get a greater precision and accuracy result if there is a pre-labeled dataset.\n",
    "\n",
    "While the two tools used have their benefits, VADER turned to be the only tool that returned some idea of the current sentiment on Artificial Intelligence even if the results were inconclusive in the experiment. For future experiments and more conclusive results, the study showed how the limited sampling provided by the Twitter API might not be preferable for Sentiment Analysis on whole populations. In addition, the VADER tool might be suited better as a first line of defense when manually labeling tweets rather than to get the general sentiment of a whole population on a particular subject."
   ]
  }
 ],
 "metadata": {
  "kernelspec": {
   "display_name": "Python 3 (ipykernel)",
   "language": "python",
   "name": "python3"
  },
  "language_info": {
   "codemirror_mode": {
    "name": "ipython",
    "version": 3
   },
   "file_extension": ".py",
   "mimetype": "text/x-python",
   "name": "python",
   "nbconvert_exporter": "python",
   "pygments_lexer": "ipython3",
   "version": "3.9.7"
  }
 },
 "nbformat": 4,
 "nbformat_minor": 5
}
